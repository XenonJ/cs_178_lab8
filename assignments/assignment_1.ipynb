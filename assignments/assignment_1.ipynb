{
 "cells": [
  {
   "cell_type": "markdown",
   "metadata": {},
   "source": [
    "# Introduction to Graph Datbases\n",
    "\n",
    "The first part of this assignment is designed to give you hands-on experience with graph databases. You will start by setting up an in-memory graph database, for which the support code is already written. Once the database is running, you will execute queries of increasing complexity, exploring how relationships between nodes and edges are stored and retrieved. Through this process, you will gain practical insights into graph database concepts such as connectivity, traversal, and querying using graph-specific languages."
   ]
  },
  {
   "cell_type": "code",
   "execution_count": 1,
   "metadata": {},
   "outputs": [],
   "source": [
    "import os\n",
    "import sys\n",
    "\n",
    "sys.path.append(os.path.abspath(os.path.join(os.path.dirname('__file__'), '..')))\n",
    "from utils import setup_database, download_sample_data"
   ]
  },
  {
   "cell_type": "code",
   "execution_count": 2,
   "metadata": {},
   "outputs": [
    {
     "name": "stdout",
     "output_type": "stream",
     "text": [
      "Downloading sample data\n",
      "Downloading https://kuzudb.com/data/movie-lens/movies.csv...\n",
      "Saved https://kuzudb.com/data/movie-lens/movies.csv to ../data/movies.csv\n",
      "Downloading https://kuzudb.com/data/movie-lens/users.csv...\n",
      "Saved https://kuzudb.com/data/movie-lens/users.csv to ../data/users.csv\n",
      "Downloading https://kuzudb.com/data/movie-lens/ratings.csv...\n",
      "Saved https://kuzudb.com/data/movie-lens/ratings.csv to ../data/ratings.csv\n",
      "Downloading https://kuzudb.com/data/movie-lens/tags.csv...\n",
      "Saved https://kuzudb.com/data/movie-lens/tags.csv to ../data/tags.csv\n",
      "Sample data downloaded successfully\n",
      "Loading graph database\n",
      "Removing existing database at ../tmp\n"
     ]
    },
    {
     "data": {
      "text/plain": [
       "<kuzu.query_result.QueryResult at 0x10596fe90>"
      ]
     },
     "execution_count": 2,
     "metadata": {},
     "output_type": "execute_result"
    }
   ],
   "source": [
    "# Download sample data for the Kuzudb example\n",
    "data_dir = '../data'\n",
    "download_sample_data(data_dir, urls=[\n",
    "    \"https://kuzudb.com/data/movie-lens/movies.csv\",\n",
    "    \"https://kuzudb.com/data/movie-lens/users.csv\",\n",
    "    \"https://kuzudb.com/data/movie-lens/ratings.csv\",\n",
    "    \"https://kuzudb.com/data/movie-lens/tags.csv\"\n",
    "])\n",
    "\n",
    "# Set up the Kuzudb database connection\n",
    "connection = setup_database('../tmp', delete_existing=True)\n",
    "\n",
    "# Create schema\n",
    "connection.execute('CREATE NODE TABLE Movie (movieId INT64, year INT64, title STRING, genres STRING, PRIMARY KEY (movieId))')\n",
    "connection.execute('CREATE NODE TABLE User (userId INT64, PRIMARY KEY (userId))')\n",
    "connection.execute('CREATE REL TABLE Rating (FROM User TO Movie, rating DOUBLE, timestamp INT64)')\n",
    "connection.execute('CREATE REL TABLE Tags (FROM User TO Movie, tag STRING, timestamp INT64)')\n",
    "\n",
    "# Insert data\n",
    "connection.execute(f'COPY Movie FROM \"{data_dir}/movies.csv\" (HEADER=TRUE)')\n",
    "connection.execute(f'COPY User FROM \"{data_dir}/users.csv\" (HEADER=TRUE)')\n",
    "connection.execute(f'COPY Rating FROM \"{data_dir}/ratings.csv\" (HEADER=TRUE)')\n",
    "connection.execute(f'COPY Tags FROM \"{data_dir}/tags.csv\" (HEADER=TRUE)')\n"
   ]
  },
  {
   "cell_type": "markdown",
   "metadata": {},
   "source": [
    "## Running Queries\n",
    "\n",
    "Now that your graph database is set up, you can begin querying it. This section includes seven queries, each increasing in complexity."
   ]
  },
  {
   "cell_type": "code",
   "execution_count": 3,
   "metadata": {},
   "outputs": [
    {
     "data": {
      "text/html": [
       "<div>\n",
       "<style scoped>\n",
       "    .dataframe tbody tr th:only-of-type {\n",
       "        vertical-align: middle;\n",
       "    }\n",
       "\n",
       "    .dataframe tbody tr th {\n",
       "        vertical-align: top;\n",
       "    }\n",
       "\n",
       "    .dataframe thead th {\n",
       "        text-align: right;\n",
       "    }\n",
       "</style>\n",
       "<table border=\"1\" class=\"dataframe\">\n",
       "  <thead>\n",
       "    <tr style=\"text-align: right;\">\n",
       "      <th></th>\n",
       "      <th>m</th>\n",
       "    </tr>\n",
       "  </thead>\n",
       "  <tbody>\n",
       "    <tr>\n",
       "      <th>0</th>\n",
       "      <td>{'_id': {'offset': 0, 'table': 0}, '_label': '...</td>\n",
       "    </tr>\n",
       "    <tr>\n",
       "      <th>1</th>\n",
       "      <td>{'_id': {'offset': 1, 'table': 0}, '_label': '...</td>\n",
       "    </tr>\n",
       "    <tr>\n",
       "      <th>2</th>\n",
       "      <td>{'_id': {'offset': 2, 'table': 0}, '_label': '...</td>\n",
       "    </tr>\n",
       "    <tr>\n",
       "      <th>3</th>\n",
       "      <td>{'_id': {'offset': 3, 'table': 0}, '_label': '...</td>\n",
       "    </tr>\n",
       "    <tr>\n",
       "      <th>4</th>\n",
       "      <td>{'_id': {'offset': 4, 'table': 0}, '_label': '...</td>\n",
       "    </tr>\n",
       "  </tbody>\n",
       "</table>\n",
       "</div>"
      ],
      "text/plain": [
       "                                                   m\n",
       "0  {'_id': {'offset': 0, 'table': 0}, '_label': '...\n",
       "1  {'_id': {'offset': 1, 'table': 0}, '_label': '...\n",
       "2  {'_id': {'offset': 2, 'table': 0}, '_label': '...\n",
       "3  {'_id': {'offset': 3, 'table': 0}, '_label': '...\n",
       "4  {'_id': {'offset': 4, 'table': 0}, '_label': '..."
      ]
     },
     "execution_count": 3,
     "metadata": {},
     "output_type": "execute_result"
    }
   ],
   "source": [
    "# Query 1: Query all nodes with the label 'Movie'. Return those movie nodes. Limit your results to 25\n",
    "result = connection.execute(\"MATCH (m:Movie) RETURN m LIMIT 25\")\n",
    "\n",
    "df = result.get_as_df()\n",
    "df.head()"
   ]
  },
  {
   "cell_type": "code",
   "execution_count": null,
   "metadata": {},
   "outputs": [
    {
     "data": {
      "text/html": [
       "<div>\n",
       "<style scoped>\n",
       "    .dataframe tbody tr th:only-of-type {\n",
       "        vertical-align: middle;\n",
       "    }\n",
       "\n",
       "    .dataframe tbody tr th {\n",
       "        vertical-align: top;\n",
       "    }\n",
       "\n",
       "    .dataframe thead th {\n",
       "        text-align: right;\n",
       "    }\n",
       "</style>\n",
       "<table border=\"1\" class=\"dataframe\">\n",
       "  <thead>\n",
       "    <tr style=\"text-align: right;\">\n",
       "      <th></th>\n",
       "      <th>p</th>\n",
       "    </tr>\n",
       "  </thead>\n",
       "  <tbody>\n",
       "    <tr>\n",
       "      <th>0</th>\n",
       "      <td>{'_nodes': [{'_id': {'offset': 0, 'table': 0},...</td>\n",
       "    </tr>\n",
       "    <tr>\n",
       "      <th>1</th>\n",
       "      <td>{'_nodes': [{'_id': {'offset': 0, 'table': 0},...</td>\n",
       "    </tr>\n",
       "    <tr>\n",
       "      <th>2</th>\n",
       "      <td>{'_nodes': [{'_id': {'offset': 0, 'table': 0},...</td>\n",
       "    </tr>\n",
       "    <tr>\n",
       "      <th>3</th>\n",
       "      <td>{'_nodes': [{'_id': {'offset': 0, 'table': 0},...</td>\n",
       "    </tr>\n",
       "    <tr>\n",
       "      <th>4</th>\n",
       "      <td>{'_nodes': [{'_id': {'offset': 0, 'table': 0},...</td>\n",
       "    </tr>\n",
       "  </tbody>\n",
       "</table>\n",
       "</div>"
      ],
      "text/plain": [
       "                                                   p\n",
       "0  {'_nodes': [{'_id': {'offset': 0, 'table': 0},...\n",
       "1  {'_nodes': [{'_id': {'offset': 0, 'table': 0},...\n",
       "2  {'_nodes': [{'_id': {'offset': 0, 'table': 0},...\n",
       "3  {'_nodes': [{'_id': {'offset': 0, 'table': 0},...\n",
       "4  {'_nodes': [{'_id': {'offset': 0, 'table': 0},..."
      ]
     },
     "execution_count": 4,
     "metadata": {},
     "output_type": "execute_result"
    }
   ],
   "source": [
    "# Query 2: Query all nodes with the label 'Movie'. Get all connected nodes to the movie nodes. Limit your results to 50\n",
    "result = connection.execute(\"\"\"\n",
    "    MATCH p = (:Movie)<--()\n",
    "    RETURN p\n",
    "    LIMIT 50\n",
    "    \"\"\")\n",
    "\n",
    "df = result.get_as_df()\n",
    "df.head()"
   ]
  },
  {
   "cell_type": "code",
   "execution_count": 5,
   "metadata": {},
   "outputs": [
    {
     "data": {
      "text/html": [
       "<div>\n",
       "<style scoped>\n",
       "    .dataframe tbody tr th:only-of-type {\n",
       "        vertical-align: middle;\n",
       "    }\n",
       "\n",
       "    .dataframe tbody tr th {\n",
       "        vertical-align: top;\n",
       "    }\n",
       "\n",
       "    .dataframe thead th {\n",
       "        text-align: right;\n",
       "    }\n",
       "</style>\n",
       "<table border=\"1\" class=\"dataframe\">\n",
       "  <thead>\n",
       "    <tr style=\"text-align: right;\">\n",
       "      <th></th>\n",
       "      <th>total_nodes</th>\n",
       "    </tr>\n",
       "  </thead>\n",
       "  <tbody>\n",
       "    <tr>\n",
       "      <th>0</th>\n",
       "      <td>10352</td>\n",
       "    </tr>\n",
       "  </tbody>\n",
       "</table>\n",
       "</div>"
      ],
      "text/plain": [
       "   total_nodes\n",
       "0        10352"
      ]
     },
     "execution_count": 5,
     "metadata": {},
     "output_type": "execute_result"
    }
   ],
   "source": [
    "# Query 3: Count the total number of nodes in the database\n",
    "# Hint: Use the `COUNT` function to count the number of nodes\n",
    "result = connection.execute(\"\"\"\n",
    "    MATCH (n)\n",
    "    RETURN COUNT(*) AS total_nodes\n",
    "\"\"\")\n",
    "\n",
    "df = result.get_as_df()\n",
    "df.head()"
   ]
  },
  {
   "cell_type": "code",
   "execution_count": 6,
   "metadata": {},
   "outputs": [
    {
     "data": {
      "text/html": [
       "<div>\n",
       "<style scoped>\n",
       "    .dataframe tbody tr th:only-of-type {\n",
       "        vertical-align: middle;\n",
       "    }\n",
       "\n",
       "    .dataframe tbody tr th {\n",
       "        vertical-align: top;\n",
       "    }\n",
       "\n",
       "    .dataframe thead th {\n",
       "        text-align: right;\n",
       "    }\n",
       "</style>\n",
       "<table border=\"1\" class=\"dataframe\">\n",
       "  <thead>\n",
       "    <tr style=\"text-align: right;\">\n",
       "      <th></th>\n",
       "      <th>u</th>\n",
       "      <th>degree</th>\n",
       "    </tr>\n",
       "  </thead>\n",
       "  <tbody>\n",
       "    <tr>\n",
       "      <th>0</th>\n",
       "      <td>{'_id': {'offset': 19, 'table': 1}, '_label': ...</td>\n",
       "      <td>242</td>\n",
       "    </tr>\n",
       "    <tr>\n",
       "      <th>1</th>\n",
       "      <td>{'_id': {'offset': 28, 'table': 1}, '_label': ...</td>\n",
       "      <td>81</td>\n",
       "    </tr>\n",
       "    <tr>\n",
       "      <th>2</th>\n",
       "      <td>{'_id': {'offset': 29, 'table': 1}, '_label': ...</td>\n",
       "      <td>34</td>\n",
       "    </tr>\n",
       "    <tr>\n",
       "      <th>3</th>\n",
       "      <td>{'_id': {'offset': 76, 'table': 1}, '_label': ...</td>\n",
       "      <td>29</td>\n",
       "    </tr>\n",
       "    <tr>\n",
       "      <th>4</th>\n",
       "      <td>{'_id': {'offset': 78, 'table': 1}, '_label': ...</td>\n",
       "      <td>64</td>\n",
       "    </tr>\n",
       "  </tbody>\n",
       "</table>\n",
       "</div>"
      ],
      "text/plain": [
       "                                                   u  degree\n",
       "0  {'_id': {'offset': 19, 'table': 1}, '_label': ...     242\n",
       "1  {'_id': {'offset': 28, 'table': 1}, '_label': ...      81\n",
       "2  {'_id': {'offset': 29, 'table': 1}, '_label': ...      34\n",
       "3  {'_id': {'offset': 76, 'table': 1}, '_label': ...      29\n",
       "4  {'_id': {'offset': 78, 'table': 1}, '_label': ...      64"
      ]
     },
     "execution_count": 6,
     "metadata": {},
     "output_type": "execute_result"
    }
   ],
   "source": [
    "# Query 4: Query all nodes with the label 'User'. Count the degree for these nodes. Filter the nodes where the user rated more than 3 movies. Return the users and the degree\n",
    "# Hint: First find all users and their ratings, then count the degree, and finally filter the results to only include users with more than 3 ratings\n",
    "result = connection.execute(\"\"\"\n",
    "    MATCH (u:User)-[:Rating]->(m:Movie)\n",
    "    WITH u, COUNT(*) AS degree\n",
    "    WHERE degree > 3\n",
    "    RETURN u, degree               \n",
    "\"\"\")\n",
    "\n",
    "df = result.get_as_df()\n",
    "df.head()"
   ]
  },
  {
   "cell_type": "code",
   "execution_count": 7,
   "metadata": {},
   "outputs": [
    {
     "data": {
      "text/html": [
       "<div>\n",
       "<style scoped>\n",
       "    .dataframe tbody tr th:only-of-type {\n",
       "        vertical-align: middle;\n",
       "    }\n",
       "\n",
       "    .dataframe tbody tr th {\n",
       "        vertical-align: top;\n",
       "    }\n",
       "\n",
       "    .dataframe thead th {\n",
       "        text-align: right;\n",
       "    }\n",
       "</style>\n",
       "<table border=\"1\" class=\"dataframe\">\n",
       "  <thead>\n",
       "    <tr style=\"text-align: right;\">\n",
       "      <th></th>\n",
       "      <th>genre</th>\n",
       "      <th>MovieCount</th>\n",
       "    </tr>\n",
       "  </thead>\n",
       "  <tbody>\n",
       "    <tr>\n",
       "      <th>0</th>\n",
       "      <td>Drama</td>\n",
       "      <td>1058</td>\n",
       "    </tr>\n",
       "    <tr>\n",
       "      <th>1</th>\n",
       "      <td>Comedy</td>\n",
       "      <td>950</td>\n",
       "    </tr>\n",
       "    <tr>\n",
       "      <th>2</th>\n",
       "      <td>Comedy|Drama</td>\n",
       "      <td>435</td>\n",
       "    </tr>\n",
       "    <tr>\n",
       "      <th>3</th>\n",
       "      <td>Comedy|Romance</td>\n",
       "      <td>363</td>\n",
       "    </tr>\n",
       "    <tr>\n",
       "      <th>4</th>\n",
       "      <td>Drama|Romance</td>\n",
       "      <td>349</td>\n",
       "    </tr>\n",
       "  </tbody>\n",
       "</table>\n",
       "</div>"
      ],
      "text/plain": [
       "            genre  MovieCount\n",
       "0           Drama        1058\n",
       "1          Comedy         950\n",
       "2    Comedy|Drama         435\n",
       "3  Comedy|Romance         363\n",
       "4   Drama|Romance         349"
      ]
     },
     "execution_count": 7,
     "metadata": {},
     "output_type": "execute_result"
    }
   ],
   "source": [
    "# Query 5: Query all nodes with the label 'Movie'. Each node has a 'genre' attribute. Count the number of nodes per genre\n",
    "# Hint: Use the `WITH` clause to group by genres and count the number of movies\n",
    "result = connection.execute(\"\"\"\n",
    "    MATCH(m:Movie)\n",
    "    WITH m.genres as genre, COUNT(*) AS MovieCount\n",
    "    RETURN genre, MovieCount\n",
    "    ORDER BY MovieCount DESC\n",
    "\"\"\")\n",
    "\n",
    "df = result.get_as_df()\n",
    "df.head()"
   ]
  },
  {
   "cell_type": "code",
   "execution_count": 8,
   "metadata": {},
   "outputs": [
    {
     "data": {
      "text/html": [
       "<div>\n",
       "<style scoped>\n",
       "    .dataframe tbody tr th:only-of-type {\n",
       "        vertical-align: middle;\n",
       "    }\n",
       "\n",
       "    .dataframe tbody tr th {\n",
       "        vertical-align: top;\n",
       "    }\n",
       "\n",
       "    .dataframe thead th {\n",
       "        text-align: right;\n",
       "    }\n",
       "</style>\n",
       "<table border=\"1\" class=\"dataframe\">\n",
       "  <thead>\n",
       "    <tr style=\"text-align: right;\">\n",
       "      <th></th>\n",
       "      <th>title</th>\n",
       "      <th>avg_rating</th>\n",
       "    </tr>\n",
       "  </thead>\n",
       "  <tbody>\n",
       "    <tr>\n",
       "      <th>0</th>\n",
       "      <td>My Sassy Girl (Yeopgijeogin geunyeo) (2001)</td>\n",
       "      <td>5.0</td>\n",
       "    </tr>\n",
       "    <tr>\n",
       "      <th>1</th>\n",
       "      <td>Craig Ferguson: I'm Here To Help (2013)</td>\n",
       "      <td>5.0</td>\n",
       "    </tr>\n",
       "    <tr>\n",
       "      <th>2</th>\n",
       "      <td>On the Other Side of the Tracks (De l'autre cô...</td>\n",
       "      <td>5.0</td>\n",
       "    </tr>\n",
       "    <tr>\n",
       "      <th>3</th>\n",
       "      <td>Scooby-Doo! Abracadabra-Doo (2010)</td>\n",
       "      <td>5.0</td>\n",
       "    </tr>\n",
       "    <tr>\n",
       "      <th>4</th>\n",
       "      <td>Guy X (2005)</td>\n",
       "      <td>5.0</td>\n",
       "    </tr>\n",
       "  </tbody>\n",
       "</table>\n",
       "</div>"
      ],
      "text/plain": [
       "                                               title  avg_rating\n",
       "0        My Sassy Girl (Yeopgijeogin geunyeo) (2001)         5.0\n",
       "1            Craig Ferguson: I'm Here To Help (2013)         5.0\n",
       "2  On the Other Side of the Tracks (De l'autre cô...         5.0\n",
       "3                 Scooby-Doo! Abracadabra-Doo (2010)         5.0\n",
       "4                                       Guy X (2005)         5.0"
      ]
     },
     "execution_count": 8,
     "metadata": {},
     "output_type": "execute_result"
    }
   ],
   "source": [
    "# Query 6: Query all nodes with the label 'Movie' and 'User', and the edge 'Rating' between movie and user. Each edge 'Rating' has a rating. Find the top 10 rated movies by average rating score\n",
    "# Hint: Use the AVG clause to calculate an average. Use the `ORDER BY` clause to sort the movies by rating in descending order\n",
    "result = connection.execute(\"\"\"\n",
    "    MATCH (:User)-[r:Rating]->(m:Movie)\n",
    "    WITH m.title AS title, AVG(r.rating) AS avg_rating\n",
    "    RETURN title, avg_rating\n",
    "    ORDER BY avg_rating DESC\n",
    "    LIMIT 10\n",
    "\"\"\")\n",
    "\n",
    "\n",
    "df = result.get_as_df()\n",
    "df.head()"
   ]
  },
  {
   "cell_type": "code",
   "execution_count": 9,
   "metadata": {},
   "outputs": [
    {
     "data": {
      "text/html": [
       "<div>\n",
       "<style scoped>\n",
       "    .dataframe tbody tr th:only-of-type {\n",
       "        vertical-align: middle;\n",
       "    }\n",
       "\n",
       "    .dataframe tbody tr th {\n",
       "        vertical-align: top;\n",
       "    }\n",
       "\n",
       "    .dataframe thead th {\n",
       "        text-align: right;\n",
       "    }\n",
       "</style>\n",
       "<table border=\"1\" class=\"dataframe\">\n",
       "  <thead>\n",
       "    <tr style=\"text-align: right;\">\n",
       "      <th></th>\n",
       "      <th>movie1</th>\n",
       "      <th>movie2</th>\n",
       "      <th>CommonUsers</th>\n",
       "    </tr>\n",
       "  </thead>\n",
       "  <tbody>\n",
       "    <tr>\n",
       "      <th>0</th>\n",
       "      <td>Shawshank Redemption, The (1994)</td>\n",
       "      <td>Forrest Gump (1994)</td>\n",
       "      <td>231</td>\n",
       "    </tr>\n",
       "    <tr>\n",
       "      <th>1</th>\n",
       "      <td>Pulp Fiction (1994)</td>\n",
       "      <td>Forrest Gump (1994)</td>\n",
       "      <td>230</td>\n",
       "    </tr>\n",
       "    <tr>\n",
       "      <th>2</th>\n",
       "      <td>Pulp Fiction (1994)</td>\n",
       "      <td>Shawshank Redemption, The (1994)</td>\n",
       "      <td>222</td>\n",
       "    </tr>\n",
       "    <tr>\n",
       "      <th>3</th>\n",
       "      <td>Pulp Fiction (1994)</td>\n",
       "      <td>Silence of the Lambs, The (1991)</td>\n",
       "      <td>207</td>\n",
       "    </tr>\n",
       "    <tr>\n",
       "      <th>4</th>\n",
       "      <td>Forrest Gump (1994)</td>\n",
       "      <td>Silence of the Lambs, The (1991)</td>\n",
       "      <td>199</td>\n",
       "    </tr>\n",
       "  </tbody>\n",
       "</table>\n",
       "</div>"
      ],
      "text/plain": [
       "                             movie1                            movie2  \\\n",
       "0  Shawshank Redemption, The (1994)               Forrest Gump (1994)   \n",
       "1               Pulp Fiction (1994)               Forrest Gump (1994)   \n",
       "2               Pulp Fiction (1994)  Shawshank Redemption, The (1994)   \n",
       "3               Pulp Fiction (1994)  Silence of the Lambs, The (1991)   \n",
       "4               Forrest Gump (1994)  Silence of the Lambs, The (1991)   \n",
       "\n",
       "   CommonUsers  \n",
       "0          231  \n",
       "1          230  \n",
       "2          222  \n",
       "3          207  \n",
       "4          199  "
      ]
     },
     "execution_count": 9,
     "metadata": {},
     "output_type": "execute_result"
    }
   ],
   "source": [
    "# Query 7: Query all nodes with the label 'Movie' and 'User', and the edge 'Rating' between movie and user. Find pairs of movies often rated by the same users\n",
    "result = connection.execute(\"\"\"\n",
    "    MATCH (u:User)-[:Rating]->(m1:Movie),\n",
    "          (u)-[:Rating]->(m2:Movie)\n",
    "    WHERE m1.movieId < m2.movieId\n",
    "    WITH m1.title AS movie1, m2.title AS movie2, COUNT(*) AS CommonUsers\n",
    "    RETURN movie1, movie2, CommonUsers\n",
    "    ORDER BY CommonUsers DESC\n",
    "\"\"\")\n",
    "\n",
    "df = result.get_as_df()\n",
    "df.head()"
   ]
  },
  {
   "cell_type": "code",
   "execution_count": null,
   "metadata": {},
   "outputs": [],
   "source": []
  }
 ],
 "metadata": {
  "kernelspec": {
   "display_name": ".venv",
   "language": "python",
   "name": "python3"
  },
  "language_info": {
   "codemirror_mode": {
    "name": "ipython",
    "version": 3
   },
   "file_extension": ".py",
   "mimetype": "text/x-python",
   "name": "python",
   "nbconvert_exporter": "python",
   "pygments_lexer": "ipython3",
   "version": "3.11.5"
  }
 },
 "nbformat": 4,
 "nbformat_minor": 2
}
