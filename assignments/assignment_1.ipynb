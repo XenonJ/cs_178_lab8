{
 "cells": [
  {
   "cell_type": "markdown",
   "metadata": {},
   "source": [
    "# Introduction to Graph Datbases\n",
    "\n",
    "The first part of this assignment is designed to give you hands-on experience with graph databases. You will start by setting up an in-memory graph database, for which the support code is already written. Once the database is running, you will execute queries of increasing complexity, exploring how relationships between nodes and edges are stored and retrieved. Through this process, you will gain practical insights into graph database concepts such as connectivity, traversal, and querying using graph-specific languages."
   ]
  },
  {
   "cell_type": "code",
   "execution_count": null,
   "metadata": {},
   "outputs": [
    {
     "name": "stdout",
     "output_type": "stream",
     "text": [
      "Requirement already satisfied: kuzu in /opt/anaconda3/envs/Visual_Analytics/lib/python3.13/site-packages (0.9.0)\n",
      "Note: you may need to restart the kernel to use updated packages.\n"
     ]
    }
   ],
   "source": [
    "%pip install kuzu"
   ]
  },
  {
   "cell_type": "code",
   "execution_count": 2,
   "metadata": {},
   "outputs": [],
   "source": [
    "import os\n",
    "import sys\n",
    "\n",
    "sys.path.append(os.path.abspath(os.path.join(os.path.dirname('__file__'), '..')))\n",
    "from utils import setup_database, download_sample_data\n",
    "import pandas as pd\n",
    "pd.set_option('display.max_colwidth', None)"
   ]
  },
  {
   "cell_type": "code",
   "execution_count": 3,
   "metadata": {},
   "outputs": [
    {
     "name": "stdout",
     "output_type": "stream",
     "text": [
      "Downloading sample data\n",
      "Downloading https://kuzudb.com/data/movie-lens/movies.csv...\n",
      "Saved https://kuzudb.com/data/movie-lens/movies.csv to ../data/movies.csv\n",
      "Downloading https://kuzudb.com/data/movie-lens/users.csv...\n",
      "Saved https://kuzudb.com/data/movie-lens/users.csv to ../data/users.csv\n",
      "Downloading https://kuzudb.com/data/movie-lens/ratings.csv...\n",
      "Saved https://kuzudb.com/data/movie-lens/ratings.csv to ../data/ratings.csv\n",
      "Downloading https://kuzudb.com/data/movie-lens/tags.csv...\n",
      "Saved https://kuzudb.com/data/movie-lens/tags.csv to ../data/tags.csv\n",
      "Sample data downloaded successfully\n",
      "Loading graph database\n",
      "Removing existing database at ../tmp\n"
     ]
    },
    {
     "data": {
      "text/plain": [
       "<kuzu.query_result.QueryResult at 0x1052d5ae0>"
      ]
     },
     "execution_count": 3,
     "metadata": {},
     "output_type": "execute_result"
    }
   ],
   "source": [
    "# Download sample data for the Kuzudb example\n",
    "data_dir = '../data'\n",
    "download_sample_data(data_dir, urls=[\n",
    "    \"https://kuzudb.com/data/movie-lens/movies.csv\",\n",
    "    \"https://kuzudb.com/data/movie-lens/users.csv\",\n",
    "    \"https://kuzudb.com/data/movie-lens/ratings.csv\",\n",
    "    \"https://kuzudb.com/data/movie-lens/tags.csv\"\n",
    "])\n",
    "\n",
    "# Set up the Kuzudb database connection\n",
    "connection = setup_database('../tmp', delete_existing=True)\n",
    "\n",
    "# Create schema\n",
    "connection.execute('CREATE NODE TABLE Movie (movieId INT64, year INT64, title STRING, genres STRING, PRIMARY KEY (movieId))')\n",
    "connection.execute('CREATE NODE TABLE User (userId INT64, PRIMARY KEY (userId))')\n",
    "connection.execute('CREATE REL TABLE Rating (FROM User TO Movie, rating DOUBLE, timestamp INT64)')\n",
    "connection.execute('CREATE REL TABLE Tags (FROM User TO Movie, tag STRING, timestamp INT64)')\n",
    "\n",
    "# Insert data\n",
    "connection.execute(f'COPY Movie FROM \"{data_dir}/movies.csv\" (HEADER=TRUE)')\n",
    "connection.execute(f'COPY User FROM \"{data_dir}/users.csv\" (HEADER=TRUE)')\n",
    "connection.execute(f'COPY Rating FROM \"{data_dir}/ratings.csv\" (HEADER=TRUE)')\n",
    "connection.execute(f'COPY Tags FROM \"{data_dir}/tags.csv\" (HEADER=TRUE)')\n"
   ]
  },
  {
   "cell_type": "markdown",
   "metadata": {},
   "source": [
    "## Running Queries\n",
    "\n",
    "Now that your graph database is set up, you can begin querying it. This section includes seven queries, each increasing in complexity."
   ]
  },
  {
   "cell_type": "code",
   "execution_count": 4,
   "metadata": {},
   "outputs": [
    {
     "data": {
      "application/vnd.microsoft.datawrangler.viewer.v0+json": {
       "columns": [
        {
         "name": "index",
         "rawType": "int64",
         "type": "integer"
        },
        {
         "name": "m",
         "rawType": "object",
         "type": "unknown"
        }
       ],
       "conversionMethod": "pd.DataFrame",
       "ref": "d4a24038-4da7-4f0d-9c38-435c3b7ae514",
       "rows": [
        [
         "0",
         "{'_id': {'offset': 0, 'table': 0}, '_label': 'Movie', 'movieId': 564, 'year': 1994, 'title': 'Chasers (1994)', 'genres': 'Comedy'}"
        ],
        [
         "1",
         "{'_id': {'offset': 1, 'table': 0}, '_label': 'Movie', 'movieId': 567, 'year': 1993, 'title': 'Kika (1993)', 'genres': 'Comedy|Drama'}"
        ],
        [
         "2",
         "{'_id': {'offset': 2, 'table': 0}, '_label': 'Movie', 'movieId': 568, 'year': 1993, 'title': 'Bhaji on the Beach (1993)', 'genres': 'Comedy|Drama'}"
        ],
        [
         "3",
         "{'_id': {'offset': 3, 'table': 0}, '_label': 'Movie', 'movieId': 569, 'year': 1994, 'title': 'Little Big League (1994)', 'genres': 'Comedy|Drama'}"
        ],
        [
         "4",
         "{'_id': {'offset': 4, 'table': 0}, '_label': 'Movie', 'movieId': 573, 'year': 1992, 'title': 'Ciao, Professore! (Io speriamo che me la cavo) (1992)', 'genres': 'Drama'}"
        ]
       ],
       "shape": {
        "columns": 1,
        "rows": 5
       }
      },
      "text/html": [
       "<div>\n",
       "<style scoped>\n",
       "    .dataframe tbody tr th:only-of-type {\n",
       "        vertical-align: middle;\n",
       "    }\n",
       "\n",
       "    .dataframe tbody tr th {\n",
       "        vertical-align: top;\n",
       "    }\n",
       "\n",
       "    .dataframe thead th {\n",
       "        text-align: right;\n",
       "    }\n",
       "</style>\n",
       "<table border=\"1\" class=\"dataframe\">\n",
       "  <thead>\n",
       "    <tr style=\"text-align: right;\">\n",
       "      <th></th>\n",
       "      <th>m</th>\n",
       "    </tr>\n",
       "  </thead>\n",
       "  <tbody>\n",
       "    <tr>\n",
       "      <th>0</th>\n",
       "      <td>{'_id': {'offset': 0, 'table': 0}, '_label': 'Movie', 'movieId': 564, 'year': 1994, 'title': 'Chasers (1994)', 'genres': 'Comedy'}</td>\n",
       "    </tr>\n",
       "    <tr>\n",
       "      <th>1</th>\n",
       "      <td>{'_id': {'offset': 1, 'table': 0}, '_label': 'Movie', 'movieId': 567, 'year': 1993, 'title': 'Kika (1993)', 'genres': 'Comedy|Drama'}</td>\n",
       "    </tr>\n",
       "    <tr>\n",
       "      <th>2</th>\n",
       "      <td>{'_id': {'offset': 2, 'table': 0}, '_label': 'Movie', 'movieId': 568, 'year': 1993, 'title': 'Bhaji on the Beach (1993)', 'genres': 'Comedy|Drama'}</td>\n",
       "    </tr>\n",
       "    <tr>\n",
       "      <th>3</th>\n",
       "      <td>{'_id': {'offset': 3, 'table': 0}, '_label': 'Movie', 'movieId': 569, 'year': 1994, 'title': 'Little Big League (1994)', 'genres': 'Comedy|Drama'}</td>\n",
       "    </tr>\n",
       "    <tr>\n",
       "      <th>4</th>\n",
       "      <td>{'_id': {'offset': 4, 'table': 0}, '_label': 'Movie', 'movieId': 573, 'year': 1992, 'title': 'Ciao, Professore! (Io speriamo che me la cavo) (1992)', 'genres': 'Drama'}</td>\n",
       "    </tr>\n",
       "  </tbody>\n",
       "</table>\n",
       "</div>"
      ],
      "text/plain": [
       "                                                                                                                                                                          m\n",
       "0                                        {'_id': {'offset': 0, 'table': 0}, '_label': 'Movie', 'movieId': 564, 'year': 1994, 'title': 'Chasers (1994)', 'genres': 'Comedy'}\n",
       "1                                     {'_id': {'offset': 1, 'table': 0}, '_label': 'Movie', 'movieId': 567, 'year': 1993, 'title': 'Kika (1993)', 'genres': 'Comedy|Drama'}\n",
       "2                       {'_id': {'offset': 2, 'table': 0}, '_label': 'Movie', 'movieId': 568, 'year': 1993, 'title': 'Bhaji on the Beach (1993)', 'genres': 'Comedy|Drama'}\n",
       "3                        {'_id': {'offset': 3, 'table': 0}, '_label': 'Movie', 'movieId': 569, 'year': 1994, 'title': 'Little Big League (1994)', 'genres': 'Comedy|Drama'}\n",
       "4  {'_id': {'offset': 4, 'table': 0}, '_label': 'Movie', 'movieId': 573, 'year': 1992, 'title': 'Ciao, Professore! (Io speriamo che me la cavo) (1992)', 'genres': 'Drama'}"
      ]
     },
     "execution_count": 4,
     "metadata": {},
     "output_type": "execute_result"
    }
   ],
   "source": [
    "# Query 1: Query all nodes with the label 'Movie'. Return those movie nodes. Limit your results to 25\n",
    "result = connection.execute('MATCH (m:Movie) RETURN m LIMIT 25')\n",
    "\n",
    "df = result.get_as_df()\n",
    "df.head()"
   ]
  },
  {
   "cell_type": "code",
   "execution_count": 17,
   "metadata": {},
   "outputs": [
    {
     "data": {
      "application/vnd.microsoft.datawrangler.viewer.v0+json": {
       "columns": [
        {
         "name": "index",
         "rawType": "int64",
         "type": "integer"
        },
        {
         "name": "p",
         "rawType": "object",
         "type": "unknown"
        }
       ],
       "conversionMethod": "pd.DataFrame",
       "ref": "2fb503d4-d105-4be6-93e2-6dd9ddfb30ba",
       "rows": [
        [
         "0",
         "{'_nodes': [{'_id': {'offset': 0, 'table': 0}, '_label': 'Movie', 'movieId': 564, 'year': 1994, 'title': 'Chasers (1994)', 'genres': 'Comedy', 'userId': None}, {'_id': {'offset': 216, 'table': 1}, '_label': 'User', 'movieId': None, 'year': None, 'title': None, 'genres': None, 'userId': 217}], '_rels': [{'_src': {'offset': 216, 'table': 1}, '_dst': {'offset': 0, 'table': 0}, '_label': 'Rating', '_id': {'offset': 30315, 'table': 2}, 'rating': 1.0, 'timestamp': 955945521, 'tag': None}]}"
        ],
        [
         "1",
         "{'_nodes': [{'_id': {'offset': 0, 'table': 0}, '_label': 'Movie', 'movieId': 564, 'year': 1994, 'title': 'Chasers (1994)', 'genres': 'Comedy', 'userId': None}, {'_id': {'offset': 413, 'table': 1}, '_label': 'User', 'movieId': None, 'year': None, 'title': None, 'genres': None, 'userId': 414}], '_rels': [{'_src': {'offset': 413, 'table': 1}, '_dst': {'offset': 0, 'table': 0}, '_label': 'Rating', '_id': {'offset': 61837, 'table': 2}, 'rating': 2.0, 'timestamp': 961438887, 'tag': None}]}"
        ],
        [
         "2",
         "{'_nodes': [{'_id': {'offset': 1, 'table': 0}, '_label': 'Movie', 'movieId': 567, 'year': 1993, 'title': 'Kika (1993)', 'genres': 'Comedy|Drama', 'userId': None}, {'_id': {'offset': 131, 'table': 1}, '_label': 'User', 'movieId': None, 'year': None, 'title': None, 'genres': None, 'userId': 132}], '_rels': [{'_src': {'offset': 131, 'table': 1}, '_dst': {'offset': 1, 'table': 0}, '_label': 'Rating', '_id': {'offset': 19969, 'table': 2}, 'rating': 2.0, 'timestamp': 1157992669, 'tag': None}]}"
        ],
        [
         "3",
         "{'_nodes': [{'_id': {'offset': 1, 'table': 0}, '_label': 'Movie', 'movieId': 567, 'year': 1993, 'title': 'Kika (1993)', 'genres': 'Comedy|Drama', 'userId': None}, {'_id': {'offset': 201, 'table': 1}, '_label': 'User', 'movieId': None, 'year': None, 'title': None, 'genres': None, 'userId': 202}], '_rels': [{'_src': {'offset': 201, 'table': 1}, '_dst': {'offset': 1, 'table': 0}, '_label': 'Rating', '_id': {'offset': 29087, 'table': 2}, 'rating': 3.0, 'timestamp': 974912341, 'tag': None}]}"
        ],
        [
         "4",
         "{'_nodes': [{'_id': {'offset': 1, 'table': 0}, '_label': 'Movie', 'movieId': 567, 'year': 1993, 'title': 'Kika (1993)', 'genres': 'Comedy|Drama', 'userId': None}, {'_id': {'offset': 197, 'table': 1}, '_label': 'User', 'movieId': None, 'year': None, 'title': None, 'genres': None, 'userId': 198}], '_rels': [{'_src': {'offset': 197, 'table': 1}, '_dst': {'offset': 1, 'table': 0}, '_label': 'Rating', '_id': {'offset': 28374, 'table': 2}, 'rating': 1.0, 'timestamp': 1034137937, 'tag': None}]}"
        ]
       ],
       "shape": {
        "columns": 1,
        "rows": 5
       }
      },
      "text/html": [
       "<div>\n",
       "<style scoped>\n",
       "    .dataframe tbody tr th:only-of-type {\n",
       "        vertical-align: middle;\n",
       "    }\n",
       "\n",
       "    .dataframe tbody tr th {\n",
       "        vertical-align: top;\n",
       "    }\n",
       "\n",
       "    .dataframe thead th {\n",
       "        text-align: right;\n",
       "    }\n",
       "</style>\n",
       "<table border=\"1\" class=\"dataframe\">\n",
       "  <thead>\n",
       "    <tr style=\"text-align: right;\">\n",
       "      <th></th>\n",
       "      <th>p</th>\n",
       "    </tr>\n",
       "  </thead>\n",
       "  <tbody>\n",
       "    <tr>\n",
       "      <th>0</th>\n",
       "      <td>{'_nodes': [{'_id': {'offset': 0, 'table': 0}, '_label': 'Movie', 'movieId': 564, 'year': 1994, 'title': 'Chasers (1994)', 'genres': 'Comedy', 'userId': None}, {'_id': {'offset': 216, 'table': 1}, '_label': 'User', 'movieId': None, 'year': None, 'title': None, 'genres': None, 'userId': 217}], '_rels': [{'_src': {'offset': 216, 'table': 1}, '_dst': {'offset': 0, 'table': 0}, '_label': 'Rating', '_id': {'offset': 30315, 'table': 2}, 'rating': 1.0, 'timestamp': 955945521, 'tag': None}]}</td>\n",
       "    </tr>\n",
       "    <tr>\n",
       "      <th>1</th>\n",
       "      <td>{'_nodes': [{'_id': {'offset': 0, 'table': 0}, '_label': 'Movie', 'movieId': 564, 'year': 1994, 'title': 'Chasers (1994)', 'genres': 'Comedy', 'userId': None}, {'_id': {'offset': 413, 'table': 1}, '_label': 'User', 'movieId': None, 'year': None, 'title': None, 'genres': None, 'userId': 414}], '_rels': [{'_src': {'offset': 413, 'table': 1}, '_dst': {'offset': 0, 'table': 0}, '_label': 'Rating', '_id': {'offset': 61837, 'table': 2}, 'rating': 2.0, 'timestamp': 961438887, 'tag': None}]}</td>\n",
       "    </tr>\n",
       "    <tr>\n",
       "      <th>2</th>\n",
       "      <td>{'_nodes': [{'_id': {'offset': 1, 'table': 0}, '_label': 'Movie', 'movieId': 567, 'year': 1993, 'title': 'Kika (1993)', 'genres': 'Comedy|Drama', 'userId': None}, {'_id': {'offset': 131, 'table': 1}, '_label': 'User', 'movieId': None, 'year': None, 'title': None, 'genres': None, 'userId': 132}], '_rels': [{'_src': {'offset': 131, 'table': 1}, '_dst': {'offset': 1, 'table': 0}, '_label': 'Rating', '_id': {'offset': 19969, 'table': 2}, 'rating': 2.0, 'timestamp': 1157992669, 'tag': None}]}</td>\n",
       "    </tr>\n",
       "    <tr>\n",
       "      <th>3</th>\n",
       "      <td>{'_nodes': [{'_id': {'offset': 1, 'table': 0}, '_label': 'Movie', 'movieId': 567, 'year': 1993, 'title': 'Kika (1993)', 'genres': 'Comedy|Drama', 'userId': None}, {'_id': {'offset': 201, 'table': 1}, '_label': 'User', 'movieId': None, 'year': None, 'title': None, 'genres': None, 'userId': 202}], '_rels': [{'_src': {'offset': 201, 'table': 1}, '_dst': {'offset': 1, 'table': 0}, '_label': 'Rating', '_id': {'offset': 29087, 'table': 2}, 'rating': 3.0, 'timestamp': 974912341, 'tag': None}]}</td>\n",
       "    </tr>\n",
       "    <tr>\n",
       "      <th>4</th>\n",
       "      <td>{'_nodes': [{'_id': {'offset': 1, 'table': 0}, '_label': 'Movie', 'movieId': 567, 'year': 1993, 'title': 'Kika (1993)', 'genres': 'Comedy|Drama', 'userId': None}, {'_id': {'offset': 197, 'table': 1}, '_label': 'User', 'movieId': None, 'year': None, 'title': None, 'genres': None, 'userId': 198}], '_rels': [{'_src': {'offset': 197, 'table': 1}, '_dst': {'offset': 1, 'table': 0}, '_label': 'Rating', '_id': {'offset': 28374, 'table': 2}, 'rating': 1.0, 'timestamp': 1034137937, 'tag': None}]}</td>\n",
       "    </tr>\n",
       "  </tbody>\n",
       "</table>\n",
       "</div>"
      ],
      "text/plain": [
       "                                                                                                                                                                                                                                                                                                                                                                                                                                                                                                              p\n",
       "0      {'_nodes': [{'_id': {'offset': 0, 'table': 0}, '_label': 'Movie', 'movieId': 564, 'year': 1994, 'title': 'Chasers (1994)', 'genres': 'Comedy', 'userId': None}, {'_id': {'offset': 216, 'table': 1}, '_label': 'User', 'movieId': None, 'year': None, 'title': None, 'genres': None, 'userId': 217}], '_rels': [{'_src': {'offset': 216, 'table': 1}, '_dst': {'offset': 0, 'table': 0}, '_label': 'Rating', '_id': {'offset': 30315, 'table': 2}, 'rating': 1.0, 'timestamp': 955945521, 'tag': None}]}\n",
       "1      {'_nodes': [{'_id': {'offset': 0, 'table': 0}, '_label': 'Movie', 'movieId': 564, 'year': 1994, 'title': 'Chasers (1994)', 'genres': 'Comedy', 'userId': None}, {'_id': {'offset': 413, 'table': 1}, '_label': 'User', 'movieId': None, 'year': None, 'title': None, 'genres': None, 'userId': 414}], '_rels': [{'_src': {'offset': 413, 'table': 1}, '_dst': {'offset': 0, 'table': 0}, '_label': 'Rating', '_id': {'offset': 61837, 'table': 2}, 'rating': 2.0, 'timestamp': 961438887, 'tag': None}]}\n",
       "2  {'_nodes': [{'_id': {'offset': 1, 'table': 0}, '_label': 'Movie', 'movieId': 567, 'year': 1993, 'title': 'Kika (1993)', 'genres': 'Comedy|Drama', 'userId': None}, {'_id': {'offset': 131, 'table': 1}, '_label': 'User', 'movieId': None, 'year': None, 'title': None, 'genres': None, 'userId': 132}], '_rels': [{'_src': {'offset': 131, 'table': 1}, '_dst': {'offset': 1, 'table': 0}, '_label': 'Rating', '_id': {'offset': 19969, 'table': 2}, 'rating': 2.0, 'timestamp': 1157992669, 'tag': None}]}\n",
       "3   {'_nodes': [{'_id': {'offset': 1, 'table': 0}, '_label': 'Movie', 'movieId': 567, 'year': 1993, 'title': 'Kika (1993)', 'genres': 'Comedy|Drama', 'userId': None}, {'_id': {'offset': 201, 'table': 1}, '_label': 'User', 'movieId': None, 'year': None, 'title': None, 'genres': None, 'userId': 202}], '_rels': [{'_src': {'offset': 201, 'table': 1}, '_dst': {'offset': 1, 'table': 0}, '_label': 'Rating', '_id': {'offset': 29087, 'table': 2}, 'rating': 3.0, 'timestamp': 974912341, 'tag': None}]}\n",
       "4  {'_nodes': [{'_id': {'offset': 1, 'table': 0}, '_label': 'Movie', 'movieId': 567, 'year': 1993, 'title': 'Kika (1993)', 'genres': 'Comedy|Drama', 'userId': None}, {'_id': {'offset': 197, 'table': 1}, '_label': 'User', 'movieId': None, 'year': None, 'title': None, 'genres': None, 'userId': 198}], '_rels': [{'_src': {'offset': 197, 'table': 1}, '_dst': {'offset': 1, 'table': 0}, '_label': 'Rating', '_id': {'offset': 28374, 'table': 2}, 'rating': 1.0, 'timestamp': 1034137937, 'tag': None}]}"
      ]
     },
     "execution_count": 17,
     "metadata": {},
     "output_type": "execute_result"
    }
   ],
   "source": [
    "# Query 2: Query all nodes with the label 'Movie'. Get all connected nodes to the movie nodes. Limit your results to 50\n",
    "# result = connection.execute('MATCH p = (e)-[]-(m:Movie) RETURN p LIMIT 50')\n",
    "result = connection.execute('MATCH p = (m:Movie)<-[]-(e) RETURN p LIMIT 50')\n",
    "# result = connection.execute('MATCH p = (m:Movie)-[]-(e) RETURN m, collect(e) LIMIT 50')\n",
    "\n",
    "df = result.get_as_df()\n",
    "df.head()"
   ]
  },
  {
   "cell_type": "code",
   "execution_count": 6,
   "metadata": {},
   "outputs": [
    {
     "name": "stdout",
     "output_type": "stream",
     "text": [
      "   total_nodes\n",
      "0        10352\n"
     ]
    }
   ],
   "source": [
    "# Query 3: Count the total number of nodes in the database\n",
    "# Hint: Use the `COUNT` function to count the number of nodes\n",
    "result = connection.execute('MATCH (m) RETURN COUNT(m) AS total_nodes')\n",
    "\n",
    "df = result.get_as_df()\n",
    "print(df.head())"
   ]
  },
  {
   "cell_type": "code",
   "execution_count": 18,
   "metadata": {},
   "outputs": [
    {
     "data": {
      "application/vnd.microsoft.datawrangler.viewer.v0+json": {
       "columns": [
        {
         "name": "index",
         "rawType": "int64",
         "type": "integer"
        },
        {
         "name": "u",
         "rawType": "object",
         "type": "unknown"
        },
        {
         "name": "degree",
         "rawType": "int64",
         "type": "integer"
        }
       ],
       "conversionMethod": "pd.DataFrame",
       "ref": "abaa600c-07ec-4c0a-adb3-70fe6b725a35",
       "rows": [
        [
         "0",
         "{'_id': {'offset': 10, 'table': 1}, '_label': 'User', 'userId': 11}",
         "64"
        ],
        [
         "1",
         "{'_id': {'offset': 19, 'table': 1}, '_label': 'User', 'userId': 20}",
         "242"
        ],
        [
         "2",
         "{'_id': {'offset': 28, 'table': 1}, '_label': 'User', 'userId': 29}",
         "81"
        ],
        [
         "3",
         "{'_id': {'offset': 29, 'table': 1}, '_label': 'User', 'userId': 30}",
         "34"
        ],
        [
         "4",
         "{'_id': {'offset': 36, 'table': 1}, '_label': 'User', 'userId': 37}",
         "21"
        ]
       ],
       "shape": {
        "columns": 2,
        "rows": 5
       }
      },
      "text/html": [
       "<div>\n",
       "<style scoped>\n",
       "    .dataframe tbody tr th:only-of-type {\n",
       "        vertical-align: middle;\n",
       "    }\n",
       "\n",
       "    .dataframe tbody tr th {\n",
       "        vertical-align: top;\n",
       "    }\n",
       "\n",
       "    .dataframe thead th {\n",
       "        text-align: right;\n",
       "    }\n",
       "</style>\n",
       "<table border=\"1\" class=\"dataframe\">\n",
       "  <thead>\n",
       "    <tr style=\"text-align: right;\">\n",
       "      <th></th>\n",
       "      <th>u</th>\n",
       "      <th>degree</th>\n",
       "    </tr>\n",
       "  </thead>\n",
       "  <tbody>\n",
       "    <tr>\n",
       "      <th>0</th>\n",
       "      <td>{'_id': {'offset': 10, 'table': 1}, '_label': 'User', 'userId': 11}</td>\n",
       "      <td>64</td>\n",
       "    </tr>\n",
       "    <tr>\n",
       "      <th>1</th>\n",
       "      <td>{'_id': {'offset': 19, 'table': 1}, '_label': 'User', 'userId': 20}</td>\n",
       "      <td>242</td>\n",
       "    </tr>\n",
       "    <tr>\n",
       "      <th>2</th>\n",
       "      <td>{'_id': {'offset': 28, 'table': 1}, '_label': 'User', 'userId': 29}</td>\n",
       "      <td>81</td>\n",
       "    </tr>\n",
       "    <tr>\n",
       "      <th>3</th>\n",
       "      <td>{'_id': {'offset': 29, 'table': 1}, '_label': 'User', 'userId': 30}</td>\n",
       "      <td>34</td>\n",
       "    </tr>\n",
       "    <tr>\n",
       "      <th>4</th>\n",
       "      <td>{'_id': {'offset': 36, 'table': 1}, '_label': 'User', 'userId': 37}</td>\n",
       "      <td>21</td>\n",
       "    </tr>\n",
       "  </tbody>\n",
       "</table>\n",
       "</div>"
      ],
      "text/plain": [
       "                                                                     u  degree\n",
       "0  {'_id': {'offset': 10, 'table': 1}, '_label': 'User', 'userId': 11}      64\n",
       "1  {'_id': {'offset': 19, 'table': 1}, '_label': 'User', 'userId': 20}     242\n",
       "2  {'_id': {'offset': 28, 'table': 1}, '_label': 'User', 'userId': 29}      81\n",
       "3  {'_id': {'offset': 29, 'table': 1}, '_label': 'User', 'userId': 30}      34\n",
       "4  {'_id': {'offset': 36, 'table': 1}, '_label': 'User', 'userId': 37}      21"
      ]
     },
     "execution_count": 18,
     "metadata": {},
     "output_type": "execute_result"
    }
   ],
   "source": [
    "# Query 4: Query all nodes with the label 'User'. Count the degree for these nodes. Filter the nodes where the user rated more than 3 movies. Return the users and the degree\n",
    "# Hint: First find all users and their ratings, then count the degree, and finally filter the results to only include users with more than 3 ratings\n",
    "result = connection.execute('MATCH (u:User)-[r:Rating|:Tags]->(m:Movie) WITH u, COUNT(r) AS degree WHERE degree > 3 RETURN u, degree')\n",
    "\n",
    "df = result.get_as_df()\n",
    "df.head()"
   ]
  },
  {
   "cell_type": "code",
   "execution_count": 19,
   "metadata": {},
   "outputs": [
    {
     "data": {
      "application/vnd.microsoft.datawrangler.viewer.v0+json": {
       "columns": [
        {
         "name": "index",
         "rawType": "int64",
         "type": "integer"
        },
        {
         "name": "genre",
         "rawType": "object",
         "type": "string"
        },
        {
         "name": "count",
         "rawType": "int64",
         "type": "integer"
        }
       ],
       "conversionMethod": "pd.DataFrame",
       "ref": "979d1c48-4c4f-4b8e-ae61-71de5fd86039",
       "rows": [
        [
         "0",
         "Drama",
         "1058"
        ],
        [
         "1",
         "Comedy",
         "950"
        ],
        [
         "2",
         "Comedy|Drama",
         "435"
        ],
        [
         "3",
         "Comedy|Romance",
         "363"
        ],
        [
         "4",
         "Drama|Romance",
         "349"
        ]
       ],
       "shape": {
        "columns": 2,
        "rows": 5
       }
      },
      "text/html": [
       "<div>\n",
       "<style scoped>\n",
       "    .dataframe tbody tr th:only-of-type {\n",
       "        vertical-align: middle;\n",
       "    }\n",
       "\n",
       "    .dataframe tbody tr th {\n",
       "        vertical-align: top;\n",
       "    }\n",
       "\n",
       "    .dataframe thead th {\n",
       "        text-align: right;\n",
       "    }\n",
       "</style>\n",
       "<table border=\"1\" class=\"dataframe\">\n",
       "  <thead>\n",
       "    <tr style=\"text-align: right;\">\n",
       "      <th></th>\n",
       "      <th>genre</th>\n",
       "      <th>count</th>\n",
       "    </tr>\n",
       "  </thead>\n",
       "  <tbody>\n",
       "    <tr>\n",
       "      <th>0</th>\n",
       "      <td>Drama</td>\n",
       "      <td>1058</td>\n",
       "    </tr>\n",
       "    <tr>\n",
       "      <th>1</th>\n",
       "      <td>Comedy</td>\n",
       "      <td>950</td>\n",
       "    </tr>\n",
       "    <tr>\n",
       "      <th>2</th>\n",
       "      <td>Comedy|Drama</td>\n",
       "      <td>435</td>\n",
       "    </tr>\n",
       "    <tr>\n",
       "      <th>3</th>\n",
       "      <td>Comedy|Romance</td>\n",
       "      <td>363</td>\n",
       "    </tr>\n",
       "    <tr>\n",
       "      <th>4</th>\n",
       "      <td>Drama|Romance</td>\n",
       "      <td>349</td>\n",
       "    </tr>\n",
       "  </tbody>\n",
       "</table>\n",
       "</div>"
      ],
      "text/plain": [
       "            genre  count\n",
       "0           Drama   1058\n",
       "1          Comedy    950\n",
       "2    Comedy|Drama    435\n",
       "3  Comedy|Romance    363\n",
       "4   Drama|Romance    349"
      ]
     },
     "execution_count": 19,
     "metadata": {},
     "output_type": "execute_result"
    }
   ],
   "source": [
    "# Query 5: Query all nodes with the label 'Movie'. Each node has a 'genre' attribute. Count the number of nodes per genre\n",
    "# Hint: Use the `WITH` clause to group by genres and count the number of movies\n",
    "result = connection.execute('MATCH (m:Movie) WITH m.genres AS genre, COUNT(m) AS count RETURN genre, count ORDER BY count DESC')\n",
    "\n",
    "df = result.get_as_df()\n",
    "df.head()"
   ]
  },
  {
   "cell_type": "code",
   "execution_count": 20,
   "metadata": {},
   "outputs": [
    {
     "data": {
      "application/vnd.microsoft.datawrangler.viewer.v0+json": {
       "columns": [
        {
         "name": "index",
         "rawType": "int64",
         "type": "integer"
        },
        {
         "name": "title",
         "rawType": "object",
         "type": "string"
        },
        {
         "name": "avg_rating",
         "rawType": "float64",
         "type": "float"
        }
       ],
       "conversionMethod": "pd.DataFrame",
       "ref": "0badb817-6de8-433d-ba2d-6d96161cac52",
       "rows": [
        [
         "0",
         "Bloodsucking Bastards (2015)",
         "5.0"
        ],
        [
         "1",
         "Ghost Graduation (2012)",
         "5.0"
        ],
        [
         "2",
         "The Love Bug (1997)",
         "5.0"
        ],
        [
         "3",
         "Saving Santa (2013)",
         "5.0"
        ],
        [
         "4",
         "Obsession (1965)",
         "5.0"
        ]
       ],
       "shape": {
        "columns": 2,
        "rows": 5
       }
      },
      "text/html": [
       "<div>\n",
       "<style scoped>\n",
       "    .dataframe tbody tr th:only-of-type {\n",
       "        vertical-align: middle;\n",
       "    }\n",
       "\n",
       "    .dataframe tbody tr th {\n",
       "        vertical-align: top;\n",
       "    }\n",
       "\n",
       "    .dataframe thead th {\n",
       "        text-align: right;\n",
       "    }\n",
       "</style>\n",
       "<table border=\"1\" class=\"dataframe\">\n",
       "  <thead>\n",
       "    <tr style=\"text-align: right;\">\n",
       "      <th></th>\n",
       "      <th>title</th>\n",
       "      <th>avg_rating</th>\n",
       "    </tr>\n",
       "  </thead>\n",
       "  <tbody>\n",
       "    <tr>\n",
       "      <th>0</th>\n",
       "      <td>Bloodsucking Bastards (2015)</td>\n",
       "      <td>5.0</td>\n",
       "    </tr>\n",
       "    <tr>\n",
       "      <th>1</th>\n",
       "      <td>Ghost Graduation (2012)</td>\n",
       "      <td>5.0</td>\n",
       "    </tr>\n",
       "    <tr>\n",
       "      <th>2</th>\n",
       "      <td>The Love Bug (1997)</td>\n",
       "      <td>5.0</td>\n",
       "    </tr>\n",
       "    <tr>\n",
       "      <th>3</th>\n",
       "      <td>Saving Santa (2013)</td>\n",
       "      <td>5.0</td>\n",
       "    </tr>\n",
       "    <tr>\n",
       "      <th>4</th>\n",
       "      <td>Obsession (1965)</td>\n",
       "      <td>5.0</td>\n",
       "    </tr>\n",
       "  </tbody>\n",
       "</table>\n",
       "</div>"
      ],
      "text/plain": [
       "                          title  avg_rating\n",
       "0  Bloodsucking Bastards (2015)         5.0\n",
       "1       Ghost Graduation (2012)         5.0\n",
       "2           The Love Bug (1997)         5.0\n",
       "3           Saving Santa (2013)         5.0\n",
       "4              Obsession (1965)         5.0"
      ]
     },
     "execution_count": 20,
     "metadata": {},
     "output_type": "execute_result"
    }
   ],
   "source": [
    "# Query 6: Query all nodes with the label 'Movie' and 'User', and the edge 'Rating' between movie and user. Each edge 'Rating' has a rating. Find the top 10 rated movies by average rating score\n",
    "# Hint: Use the AVG clause to calculate an average. Use the `ORDER BY` clause to sort the movies by rating in descending order\n",
    "result = connection.execute('MATCH (u:User)-[r:Rating]->(m:Movie) WITH m, AVG(r.rating) AS avg_rating RETURN m.title AS title, avg_rating ORDER BY avg_rating DESC LIMIT 10')\n",
    "\n",
    "df = result.get_as_df()\n",
    "df.head()"
   ]
  },
  {
   "cell_type": "code",
   "execution_count": 10,
   "metadata": {},
   "outputs": [
    {
     "data": {
      "application/vnd.microsoft.datawrangler.viewer.v0+json": {
       "columns": [
        {
         "name": "index",
         "rawType": "int64",
         "type": "integer"
        },
        {
         "name": "Movie1",
         "rawType": "object",
         "type": "string"
        },
        {
         "name": "Movie2",
         "rawType": "object",
         "type": "string"
        },
        {
         "name": "common_users",
         "rawType": "int64",
         "type": "integer"
        }
       ],
       "conversionMethod": "pd.DataFrame",
       "ref": "d0c66280-df76-4541-81f3-6d0d6bbfe614",
       "rows": [
        [
         "0",
         "Shawshank Redemption, The (1994)",
         "Forrest Gump (1994)",
         "231"
        ],
        [
         "1",
         "Pulp Fiction (1994)",
         "Forrest Gump (1994)",
         "230"
        ],
        [
         "2",
         "Pulp Fiction (1994)",
         "Shawshank Redemption, The (1994)",
         "222"
        ],
        [
         "3",
         "Silence of the Lambs, The (1991)",
         "Pulp Fiction (1994)",
         "207"
        ],
        [
         "4",
         "Silence of the Lambs, The (1991)",
         "Forrest Gump (1994)",
         "199"
        ]
       ],
       "shape": {
        "columns": 3,
        "rows": 5
       }
      },
      "text/html": [
       "<div>\n",
       "<style scoped>\n",
       "    .dataframe tbody tr th:only-of-type {\n",
       "        vertical-align: middle;\n",
       "    }\n",
       "\n",
       "    .dataframe tbody tr th {\n",
       "        vertical-align: top;\n",
       "    }\n",
       "\n",
       "    .dataframe thead th {\n",
       "        text-align: right;\n",
       "    }\n",
       "</style>\n",
       "<table border=\"1\" class=\"dataframe\">\n",
       "  <thead>\n",
       "    <tr style=\"text-align: right;\">\n",
       "      <th></th>\n",
       "      <th>Movie1</th>\n",
       "      <th>Movie2</th>\n",
       "      <th>common_users</th>\n",
       "    </tr>\n",
       "  </thead>\n",
       "  <tbody>\n",
       "    <tr>\n",
       "      <th>0</th>\n",
       "      <td>Shawshank Redemption, The (1994)</td>\n",
       "      <td>Forrest Gump (1994)</td>\n",
       "      <td>231</td>\n",
       "    </tr>\n",
       "    <tr>\n",
       "      <th>1</th>\n",
       "      <td>Pulp Fiction (1994)</td>\n",
       "      <td>Forrest Gump (1994)</td>\n",
       "      <td>230</td>\n",
       "    </tr>\n",
       "    <tr>\n",
       "      <th>2</th>\n",
       "      <td>Pulp Fiction (1994)</td>\n",
       "      <td>Shawshank Redemption, The (1994)</td>\n",
       "      <td>222</td>\n",
       "    </tr>\n",
       "    <tr>\n",
       "      <th>3</th>\n",
       "      <td>Silence of the Lambs, The (1991)</td>\n",
       "      <td>Pulp Fiction (1994)</td>\n",
       "      <td>207</td>\n",
       "    </tr>\n",
       "    <tr>\n",
       "      <th>4</th>\n",
       "      <td>Silence of the Lambs, The (1991)</td>\n",
       "      <td>Forrest Gump (1994)</td>\n",
       "      <td>199</td>\n",
       "    </tr>\n",
       "  </tbody>\n",
       "</table>\n",
       "</div>"
      ],
      "text/plain": [
       "                             Movie1                            Movie2  \\\n",
       "0  Shawshank Redemption, The (1994)               Forrest Gump (1994)   \n",
       "1               Pulp Fiction (1994)               Forrest Gump (1994)   \n",
       "2               Pulp Fiction (1994)  Shawshank Redemption, The (1994)   \n",
       "3  Silence of the Lambs, The (1991)               Pulp Fiction (1994)   \n",
       "4  Silence of the Lambs, The (1991)               Forrest Gump (1994)   \n",
       "\n",
       "   common_users  \n",
       "0           231  \n",
       "1           230  \n",
       "2           222  \n",
       "3           207  \n",
       "4           199  "
      ]
     },
     "execution_count": 10,
     "metadata": {},
     "output_type": "execute_result"
    }
   ],
   "source": [
    "# Query 7: Query all nodes with the label 'Movie' and 'User', and the edge 'Rating' between movie and user. Find pairs of movies often rated by the same users\n",
    "result = connection.execute('''\n",
    "                            MATCH (u:User)-[r:Rating]->(m1:Movie), (u)-[r2:Rating]->(m2:Movie)\n",
    "                            WHERE m1 < m2\n",
    "                            RETURN m1.title AS Movie1, m2.title AS Movie2, COUNT(DISTINCT u) AS common_users\n",
    "                            ORDER BY common_users DESC\n",
    "                            LIMIT 10\n",
    "                            ''')\n",
    "\n",
    "df = result.get_as_df()\n",
    "df.head()"
   ]
  },
  {
   "cell_type": "code",
   "execution_count": 14,
   "metadata": {},
   "outputs": [
    {
     "data": {
      "application/vnd.microsoft.datawrangler.viewer.v0+json": {
       "columns": [
        {
         "name": "index",
         "rawType": "int64",
         "type": "integer"
        },
        {
         "name": "e",
         "rawType": "object",
         "type": "unknown"
        },
        {
         "name": "r",
         "rawType": "object",
         "type": "unknown"
        },
        {
         "name": "m",
         "rawType": "object",
         "type": "unknown"
        }
       ],
       "conversionMethod": "pd.DataFrame",
       "ref": "8d59774d-71ac-4658-82b0-5803e02d1a30",
       "rows": [
        [
         "0",
         "{'_id': {'offset': 0, 'table': 1}, '_label': 'User', 'movieId': None, 'year': None, 'title': None, 'genres': None, 'userId': 1}",
         "{'_src': {'offset': 0, 'table': 1}, '_dst': {'offset': 5105, 'table': 0}, '_label': 'Rating', '_id': {'offset': 571, 'table': 2}, 'rating': 5.0, 'timestamp': 964983536, 'tag': None}",
         "{'_id': {'offset': 5105, 'table': 0}, '_label': 'Movie', 'movieId': 3273, 'year': 2000, 'title': 'Scream 3 (2000)', 'genres': 'Comedy|Horror|Mystery|Thriller'}"
        ],
        [
         "1",
         "{'_id': {'offset': 0, 'table': 1}, '_label': 'User', 'movieId': None, 'year': None, 'title': None, 'genres': None, 'userId': 1}",
         "{'_src': {'offset': 0, 'table': 1}, '_dst': {'offset': 1815, 'table': 0}, '_label': 'Rating', '_id': {'offset': 581, 'table': 2}, 'rating': 5.0, 'timestamp': 964980668, 'tag': None}",
         "{'_id': {'offset': 1815, 'table': 0}, '_label': 'Movie', 'movieId': 3578, 'year': 2000, 'title': 'Gladiator (2000)', 'genres': 'Action|Adventure|Drama'}"
        ],
        [
         "2",
         "{'_id': {'offset': 0, 'table': 1}, '_label': 'User', 'movieId': None, 'year': None, 'title': None, 'genres': None, 'userId': 1}",
         "{'_src': {'offset': 0, 'table': 1}, '_dst': {'offset': 8884, 'table': 0}, '_label': 'Rating', '_id': {'offset': 582, 'table': 2}, 'rating': 4.0, 'timestamp': 964980683, 'tag': None}",
         "{'_id': {'offset': 8884, 'table': 0}, '_label': 'Movie', 'movieId': 3617, 'year': 2000, 'title': 'Road Trip (2000)', 'genres': 'Comedy'}"
        ],
        [
         "3",
         "{'_id': {'offset': 0, 'table': 1}, '_label': 'User', 'movieId': None, 'year': None, 'title': None, 'genres': None, 'userId': 1}",
         "{'_src': {'offset': 0, 'table': 1}, '_dst': {'offset': 8990, 'table': 0}, '_label': 'Rating', '_id': {'offset': 589, 'table': 2}, 'rating': 4.0, 'timestamp': 964980694, 'tag': None}",
         "{'_id': {'offset': 8990, 'table': 0}, '_label': 'Movie', 'movieId': 3744, 'year': 2000, 'title': 'Shaft (2000)', 'genres': 'Action|Crime|Thriller'}"
        ],
        [
         "4",
         "{'_id': {'offset': 0, 'table': 1}, '_label': 'User', 'movieId': None, 'year': None, 'title': None, 'genres': None, 'userId': 1}",
         "{'_src': {'offset': 0, 'table': 1}, '_dst': {'offset': 3787, 'table': 0}, '_label': 'Rating', '_id': {'offset': 590, 'table': 2}, 'rating': 5.0, 'timestamp': 964981855, 'tag': None}",
         "{'_id': {'offset': 3787, 'table': 0}, '_label': 'Movie', 'movieId': 3793, 'year': 2000, 'title': 'X-Men (2000)', 'genres': 'Action|Adventure|Sci-Fi'}"
        ],
        [
         "5",
         "{'_id': {'offset': 1, 'table': 1}, '_label': 'User', 'movieId': None, 'year': None, 'title': None, 'genres': None, 'userId': 2}",
         "{'_src': {'offset': 1, 'table': 1}, '_dst': {'offset': 1815, 'table': 0}, '_label': 'Rating', '_id': {'offset': 597, 'table': 2}, 'rating': 4.0, 'timestamp': 1445714885, 'tag': None}",
         "{'_id': {'offset': 1815, 'table': 0}, '_label': 'Movie', 'movieId': 3578, 'year': 2000, 'title': 'Gladiator (2000)', 'genres': 'Action|Adventure|Drama'}"
        ],
        [
         "6",
         "{'_id': {'offset': 1, 'table': 1}, '_label': 'User', 'movieId': None, 'year': None, 'title': None, 'genres': None, 'userId': 2}",
         "{'_src': {'offset': 1, 'table': 1}, '_dst': {'offset': 4015, 'table': 0}, '_label': 'Rating', '_id': {'offset': 598, 'table': 2}, 'rating': 4.0, 'timestamp': 1445714952, 'tag': None}",
         "{'_id': {'offset': 4015, 'table': 0}, '_label': 'Movie', 'movieId': 6874, 'year': 2003, 'title': 'Kill Bill: Vol. 1 (2003)', 'genres': 'Action|Crime|Thriller'}"
        ],
        [
         "7",
         "{'_id': {'offset': 1, 'table': 1}, '_label': 'User', 'movieId': None, 'year': None, 'title': None, 'genres': None, 'userId': 2}",
         "{'_src': {'offset': 1, 'table': 1}, '_dst': {'offset': 5327, 'table': 0}, '_label': 'Rating', '_id': {'offset': 599, 'table': 2}, 'rating': 3.5, 'timestamp': 1445714960, 'tag': None}",
         "{'_id': {'offset': 5327, 'table': 0}, '_label': 'Movie', 'movieId': 8798, 'year': 2004, 'title': 'Collateral (2004)', 'genres': 'Action|Crime|Drama|Thriller'}"
        ],
        [
         "8",
         "{'_id': {'offset': 1, 'table': 1}, '_label': 'User', 'movieId': None, 'year': None, 'title': None, 'genres': None, 'userId': 2}",
         "{'_src': {'offset': 1, 'table': 1}, '_dst': {'offset': 6630, 'table': 0}, '_label': 'Rating', '_id': {'offset': 600, 'table': 2}, 'rating': 4.0, 'timestamp': 1445715013, 'tag': None}",
         "{'_id': {'offset': 6630, 'table': 0}, '_label': 'Movie', 'movieId': 46970, 'year': 2006, 'title': 'Talladega Nights: The Ballad of Ricky Bobby (2006)', 'genres': 'Action|Comedy'}"
        ],
        [
         "9",
         "{'_id': {'offset': 1, 'table': 1}, '_label': 'User', 'movieId': None, 'year': None, 'title': None, 'genres': None, 'userId': 2}",
         "{'_src': {'offset': 1, 'table': 1}, '_dst': {'offset': 5519, 'table': 0}, '_label': 'Rating', '_id': {'offset': 601, 'table': 2}, 'rating': 4.0, 'timestamp': 1445715064, 'tag': None}",
         "{'_id': {'offset': 5519, 'table': 0}, '_label': 'Movie', 'movieId': 48516, 'year': 2006, 'title': 'Departed, The (2006)', 'genres': 'Crime|Drama|Thriller'}"
        ],
        [
         "10",
         "{'_id': {'offset': 1, 'table': 1}, '_label': 'User', 'movieId': None, 'year': None, 'title': None, 'genres': None, 'userId': 2}",
         "{'_src': {'offset': 1, 'table': 1}, '_dst': {'offset': 2152, 'table': 0}, '_label': 'Rating', '_id': {'offset': 602, 'table': 2}, 'rating': 4.5, 'timestamp': 1445715141, 'tag': None}",
         "{'_id': {'offset': 2152, 'table': 0}, '_label': 'Movie', 'movieId': 58559, 'year': 2008, 'title': 'Dark Knight, The (2008)', 'genres': 'Action|Crime|Drama|IMAX'}"
        ],
        [
         "11",
         "{'_id': {'offset': 1, 'table': 1}, '_label': 'User', 'movieId': None, 'year': None, 'title': None, 'genres': None, 'userId': 2}",
         "{'_src': {'offset': 1, 'table': 1}, '_dst': {'offset': 2243, 'table': 0}, '_label': 'Rating', '_id': {'offset': 603, 'table': 2}, 'rating': 5.0, 'timestamp': 1445714980, 'tag': None}",
         "{'_id': {'offset': 2243, 'table': 0}, '_label': 'Movie', 'movieId': 60756, 'year': 2008, 'title': 'Step Brothers (2008)', 'genres': 'Comedy'}"
        ],
        [
         "12",
         "{'_id': {'offset': 1, 'table': 1}, '_label': 'User', 'movieId': None, 'year': None, 'title': None, 'genres': None, 'userId': 2}",
         "{'_src': {'offset': 1, 'table': 1}, '_dst': {'offset': 6661, 'table': 0}, '_label': 'Rating', '_id': {'offset': 604, 'table': 2}, 'rating': 4.5, 'timestamp': 1445715154, 'tag': None}",
         "{'_id': {'offset': 6661, 'table': 0}, '_label': 'Movie', 'movieId': 68157, 'year': 2009, 'title': 'Inglourious Basterds (2009)', 'genres': 'Action|Drama|War'}"
        ],
        [
         "13",
         "{'_id': {'offset': 1, 'table': 1}, '_label': 'User', 'movieId': None, 'year': None, 'title': None, 'genres': None, 'userId': 2}",
         "{'_src': {'offset': 1, 'table': 1}, '_dst': {'offset': 3217, 'table': 0}, '_label': 'Rating', '_id': {'offset': 605, 'table': 2}, 'rating': 3.0, 'timestamp': 1445714974, 'tag': None}",
         "{'_id': {'offset': 3217, 'table': 0}, '_label': 'Movie', 'movieId': 71535, 'year': 2009, 'title': 'Zombieland (2009)', 'genres': 'Action|Comedy|Horror'}"
        ],
        [
         "14",
         "{'_id': {'offset': 1, 'table': 1}, '_label': 'User', 'movieId': None, 'year': None, 'title': None, 'genres': None, 'userId': 2}",
         "{'_src': {'offset': 1, 'table': 1}, '_dst': {'offset': 8296, 'table': 0}, '_label': 'Rating', '_id': {'offset': 606, 'table': 2}, 'rating': 4.0, 'timestamp': 1445714926, 'tag': None}",
         "{'_id': {'offset': 8296, 'table': 0}, '_label': 'Movie', 'movieId': 74458, 'year': 2010, 'title': 'Shutter Island (2010)', 'genres': 'Drama|Mystery|Thriller'}"
        ],
        [
         "15",
         "{'_id': {'offset': 1, 'table': 1}, '_label': 'User', 'movieId': None, 'year': None, 'title': None, 'genres': None, 'userId': 2}",
         "{'_src': {'offset': 1, 'table': 1}, '_dst': {'offset': 8361, 'table': 0}, '_label': 'Rating', '_id': {'offset': 607, 'table': 2}, 'rating': 3.0, 'timestamp': 1445714941, 'tag': None}",
         "{'_id': {'offset': 8361, 'table': 0}, '_label': 'Movie', 'movieId': 77455, 'year': 2010, 'title': 'Exit Through the Gift Shop (2010)', 'genres': 'Comedy|Documentary'}"
        ],
        [
         "16",
         "{'_id': {'offset': 1, 'table': 1}, '_label': 'User', 'movieId': None, 'year': None, 'title': None, 'genres': None, 'userId': 2}",
         "{'_src': {'offset': 1, 'table': 1}, '_dst': {'offset': 8410, 'table': 0}, '_label': 'Rating', '_id': {'offset': 608, 'table': 2}, 'rating': 4.0, 'timestamp': 1445714841, 'tag': None}",
         "{'_id': {'offset': 8410, 'table': 0}, '_label': 'Movie', 'movieId': 79132, 'year': 2010, 'title': 'Inception (2010)', 'genres': 'Action|Crime|Drama|Mystery|Sci-Fi|Thriller|IMAX'}"
        ],
        [
         "17",
         "{'_id': {'offset': 1, 'table': 1}, '_label': 'User', 'movieId': None, 'year': None, 'title': None, 'genres': None, 'userId': 2}",
         "{'_src': {'offset': 1, 'table': 1}, '_dst': {'offset': 2298, 'table': 0}, '_label': 'Rating', '_id': {'offset': 609, 'table': 2}, 'rating': 4.5, 'timestamp': 1445715340, 'tag': None}",
         "{'_id': {'offset': 2298, 'table': 0}, '_label': 'Movie', 'movieId': 80489, 'year': 2010, 'title': 'Town, The (2010)', 'genres': 'Crime|Drama|Thriller'}"
        ],
        [
         "18",
         "{'_id': {'offset': 1, 'table': 1}, '_label': 'User', 'movieId': None, 'year': None, 'title': None, 'genres': None, 'userId': 2}",
         "{'_src': {'offset': 1, 'table': 1}, '_dst': {'offset': 2319, 'table': 0}, '_label': 'Rating', '_id': {'offset': 610, 'table': 2}, 'rating': 5.0, 'timestamp': 1445715172, 'tag': None}",
         "{'_id': {'offset': 2319, 'table': 0}, '_label': 'Movie', 'movieId': 80906, 'year': 2010, 'title': 'Inside Job (2010)', 'genres': 'Documentary'}"
        ],
        [
         "19",
         "{'_id': {'offset': 1, 'table': 1}, '_label': 'User', 'movieId': None, 'year': None, 'title': None, 'genres': None, 'userId': 2}",
         "{'_src': {'offset': 1, 'table': 1}, '_dst': {'offset': 1260, 'table': 0}, '_label': 'Rating', '_id': {'offset': 611, 'table': 2}, 'rating': 4.0, 'timestamp': 1445715166, 'tag': None}",
         "{'_id': {'offset': 1260, 'table': 0}, '_label': 'Movie', 'movieId': 86345, 'year': 2010, 'title': 'Louis C.K.: Hilarious (2010)', 'genres': 'Comedy'}"
        ],
        [
         "20",
         "{'_id': {'offset': 1, 'table': 1}, '_label': 'User', 'movieId': None, 'year': None, 'title': None, 'genres': None, 'userId': 2}",
         "{'_src': {'offset': 1, 'table': 1}, '_dst': {'offset': 6784, 'table': 0}, '_label': 'Rating', '_id': {'offset': 612, 'table': 2}, 'rating': 5.0, 'timestamp': 1445715189, 'tag': None}",
         "{'_id': {'offset': 6784, 'table': 0}, '_label': 'Movie', 'movieId': 89774, 'year': 2011, 'title': 'Warrior (2011)', 'genres': 'Drama'}"
        ],
        [
         "21",
         "{'_id': {'offset': 1, 'table': 1}, '_label': 'User', 'movieId': None, 'year': None, 'title': None, 'genres': None, 'userId': 2}",
         "{'_src': {'offset': 1, 'table': 1}, '_dst': {'offset': 6855, 'table': 0}, '_label': 'Rating', '_id': {'offset': 613, 'table': 2}, 'rating': 3.5, 'timestamp': 1445714891, 'tag': None}",
         "{'_id': {'offset': 6855, 'table': 0}, '_label': 'Movie', 'movieId': 91529, 'year': 2012, 'title': 'Dark Knight Rises, The (2012)', 'genres': 'Action|Adventure|Crime|IMAX'}"
        ],
        [
         "22",
         "{'_id': {'offset': 1, 'table': 1}, '_label': 'User', 'movieId': None, 'year': None, 'title': None, 'genres': None, 'userId': 2}",
         "{'_src': {'offset': 1, 'table': 1}, '_dst': {'offset': 6863, 'table': 0}, '_label': 'Rating', '_id': {'offset': 614, 'table': 2}, 'rating': 2.5, 'timestamp': 1445714938, 'tag': None}",
         "{'_id': {'offset': 6863, 'table': 0}, '_label': 'Movie', 'movieId': 91658, 'year': 2011, 'title': 'Girl with the Dragon Tattoo, The (2011)', 'genres': 'Drama|Thriller'}"
        ],
        [
         "23",
         "{'_id': {'offset': 1, 'table': 1}, '_label': 'User', 'movieId': None, 'year': None, 'title': None, 'genres': None, 'userId': 2}",
         "{'_src': {'offset': 1, 'table': 1}, '_dst': {'offset': 9556, 'table': 0}, '_label': 'Rating', '_id': {'offset': 615, 'table': 2}, 'rating': 3.5, 'timestamp': 1445714874, 'tag': None}",
         "{'_id': {'offset': 9556, 'table': 0}, '_label': 'Movie', 'movieId': 99114, 'year': 2012, 'title': 'Django Unchained (2012)', 'genres': 'Action|Drama|Western'}"
        ],
        [
         "24",
         "{'_id': {'offset': 1, 'table': 1}, '_label': 'User', 'movieId': None, 'year': None, 'title': None, 'genres': None, 'userId': 2}",
         "{'_src': {'offset': 1, 'table': 1}, '_dst': {'offset': 8500, 'table': 0}, '_label': 'Rating', '_id': {'offset': 616, 'table': 2}, 'rating': 5.0, 'timestamp': 1445714966, 'tag': None}",
         "{'_id': {'offset': 8500, 'table': 0}, '_label': 'Movie', 'movieId': 106782, 'year': 2013, 'title': 'Wolf of Wall Street, The (2013)', 'genres': 'Comedy|Crime|Drama'}"
        ],
        [
         "25",
         "{'_id': {'offset': 1, 'table': 1}, '_label': 'User', 'movieId': None, 'year': None, 'title': None, 'genres': None, 'userId': 2}",
         "{'_src': {'offset': 1, 'table': 1}, '_dst': {'offset': 3315, 'table': 0}, '_label': 'Rating', '_id': {'offset': 617, 'table': 2}, 'rating': 3.0, 'timestamp': 1445715145, 'tag': None}",
         "{'_id': {'offset': 3315, 'table': 0}, '_label': 'Movie', 'movieId': 109487, 'year': 2014, 'title': 'Interstellar (2014)', 'genres': 'Sci-Fi|IMAX'}"
        ],
        [
         "26",
         "{'_id': {'offset': 1, 'table': 1}, '_label': 'User', 'movieId': None, 'year': None, 'title': None, 'genres': None, 'userId': 2}",
         "{'_src': {'offset': 1, 'table': 1}, '_dst': {'offset': 3405, 'table': 0}, '_label': 'Rating', '_id': {'offset': 618, 'table': 2}, 'rating': 4.0, 'timestamp': 1445714882, 'tag': None}",
         "{'_id': {'offset': 3405, 'table': 0}, '_label': 'Movie', 'movieId': 112552, 'year': 2014, 'title': 'Whiplash (2014)', 'genres': 'Drama'}"
        ],
        [
         "27",
         "{'_id': {'offset': 1, 'table': 1}, '_label': 'User', 'movieId': None, 'year': None, 'title': None, 'genres': None, 'userId': 2}",
         "{'_src': {'offset': 1, 'table': 1}, '_dst': {'offset': 3448, 'table': 0}, '_label': 'Rating', '_id': {'offset': 619, 'table': 2}, 'rating': 2.0, 'timestamp': 1445715276, 'tag': None}",
         "{'_id': {'offset': 3448, 'table': 0}, '_label': 'Movie', 'movieId': 114060, 'year': 2014, 'title': 'The Drop (2014)', 'genres': 'Crime|Drama|Thriller'}"
        ],
        [
         "28",
         "{'_id': {'offset': 1, 'table': 1}, '_label': 'User', 'movieId': None, 'year': None, 'title': None, 'genres': None, 'userId': 2}",
         "{'_src': {'offset': 1, 'table': 1}, '_dst': {'offset': 6941, 'table': 0}, '_label': 'Rating', '_id': {'offset': 620, 'table': 2}, 'rating': 3.5, 'timestamp': 1445714854, 'tag': None}",
         "{'_id': {'offset': 6941, 'table': 0}, '_label': 'Movie', 'movieId': 115713, 'year': 2015, 'title': 'Ex Machina (2015)', 'genres': 'Drama|Sci-Fi|Thriller'}"
        ],
        [
         "29",
         "{'_id': {'offset': 1, 'table': 1}, '_label': 'User', 'movieId': None, 'year': None, 'title': None, 'genres': None, 'userId': 2}",
         "{'_src': {'offset': 1, 'table': 1}, '_dst': {'offset': 2429, 'table': 0}, '_label': 'Rating', '_id': {'offset': 621, 'table': 2}, 'rating': 5.0, 'timestamp': 1445715272, 'tag': None}",
         "{'_id': {'offset': 2429, 'table': 0}, '_label': 'Movie', 'movieId': 122882, 'year': 2015, 'title': 'Mad Max: Fury Road (2015)', 'genres': 'Action|Adventure|Sci-Fi|Thriller'}"
        ],
        [
         "30",
         "{'_id': {'offset': 1, 'table': 1}, '_label': 'User', 'movieId': None, 'year': None, 'title': None, 'genres': None, 'userId': 2}",
         "{'_src': {'offset': 1, 'table': 1}, '_dst': {'offset': 1364, 'table': 0}, '_label': 'Rating', '_id': {'offset': 622, 'table': 2}, 'rating': 5.0, 'timestamp': 1445714851, 'tag': None}",
         "{'_id': {'offset': 1364, 'table': 0}, '_label': 'Movie', 'movieId': 131724, 'year': 2015, 'title': 'The Jinx: The Life and Deaths of Robert Durst (2015)', 'genres': 'Documentary'}"
        ],
        [
         "31",
         "{'_id': {'offset': 2, 'table': 1}, '_label': 'User', 'movieId': None, 'year': None, 'title': None, 'genres': None, 'userId': 3}",
         "{'_src': {'offset': 2, 'table': 1}, '_dst': {'offset': 3896, 'table': 0}, '_label': 'Rating', '_id': {'offset': 648, 'table': 2}, 'rating': 0.5, 'timestamp': 1306464245, 'tag': None}",
         "{'_id': {'offset': 3896, 'table': 0}, '_label': 'Movie', 'movieId': 3949, 'year': 2000, 'title': 'Requiem for a Dream (2000)', 'genres': 'Drama'}"
        ],
        [
         "32",
         "{'_id': {'offset': 2, 'table': 1}, '_label': 'User', 'movieId': None, 'year': None, 'title': None, 'genres': None, 'userId': 3}",
         "{'_src': {'offset': 2, 'table': 1}, '_dst': {'offset': 1860, 'table': 0}, '_label': 'Rating', '_id': {'offset': 650, 'table': 2}, 'rating': 0.5, 'timestamp': 1306464284, 'tag': None}",
         "{'_id': {'offset': 1860, 'table': 0}, '_label': 'Movie', 'movieId': 5048, 'year': 2002, 'title': 'Snow Dogs (2002)', 'genres': 'Adventure|Children|Comedy'}"
        ],
        [
         "33",
         "{'_id': {'offset': 2, 'table': 1}, '_label': 'User', 'movieId': None, 'year': None, 'title': None, 'genres': None, 'userId': 3}",
         "{'_src': {'offset': 2, 'table': 1}, '_dst': {'offset': 3248, 'table': 0}, '_label': 'Rating', '_id': {'offset': 661, 'table': 2}, 'rating': 0.5, 'timestamp': 1306464164, 'tag': None}",
         "{'_id': {'offset': 3248, 'table': 0}, '_label': 'Movie', 'movieId': 72378, 'year': 2009, 'title': '2012 (2009)', 'genres': 'Action|Drama|Sci-Fi|Thriller'}"
        ],
        [
         "34",
         "{'_id': {'offset': 3, 'table': 1}, '_label': 'User', 'movieId': None, 'year': None, 'title': None, 'genres': None, 'userId': 4}",
         "{'_src': {'offset': 3, 'table': 1}, '_dst': {'offset': 5133, 'table': 0}, '_label': 'Rating', '_id': {'offset': 2670, 'table': 2}, 'rating': 4.0, 'timestamp': 986934498, 'tag': None}",
         "{'_id': {'offset': 5133, 'table': 0}, '_label': 'Movie', 'movieId': 3317, 'year': 2000, 'title': 'Wonder Boys (2000)', 'genres': 'Comedy|Drama'}"
        ],
        [
         "35",
         "{'_id': {'offset': 3, 'table': 1}, '_label': 'User', 'movieId': None, 'year': None, 'title': None, 'genres': None, 'userId': 4}",
         "{'_src': {'offset': 3, 'table': 1}, '_dst': {'offset': 1687, 'table': 0}, '_label': 'Rating', '_id': {'offset': 2674, 'table': 2}, 'rating': 4.0, 'timestamp': 986849238, 'tag': None}",
         "{'_id': {'offset': 1687, 'table': 0}, '_label': 'Movie', 'movieId': 3408, 'year': 2000, 'title': 'Erin Brockovich (2000)', 'genres': 'Drama'}"
        ],
        [
         "36",
         "{'_id': {'offset': 3, 'table': 1}, '_label': 'User', 'movieId': None, 'year': None, 'title': None, 'genres': None, 'userId': 4}",
         "{'_src': {'offset': 3, 'table': 1}, '_dst': {'offset': 1746, 'table': 0}, '_label': 'Rating', '_id': {'offset': 2675, 'table': 2}, 'rating': 2.0, 'timestamp': 964538243, 'tag': None}",
         "{'_id': {'offset': 1746, 'table': 0}, '_label': 'Movie', 'movieId': 3481, 'year': 2000, 'title': 'High Fidelity (2000)', 'genres': 'Comedy|Drama|Romance'}"
        ],
        [
         "37",
         "{'_id': {'offset': 3, 'table': 1}, '_label': 'User', 'movieId': None, 'year': None, 'title': None, 'genres': None, 'userId': 4}",
         "{'_src': {'offset': 3, 'table': 1}, '_dst': {'offset': 3831, 'table': 0}, '_label': 'Rating', '_id': {'offset': 2682, 'table': 2}, 'rating': 5.0, 'timestamp': 986849180, 'tag': None}",
         "{'_id': {'offset': 3831, 'table': 0}, '_label': 'Movie', 'movieId': 3851, 'year': 2000, 'title': \"I'm the One That I Want (2000)\", 'genres': 'Comedy'}"
        ],
        [
         "38",
         "{'_id': {'offset': 3, 'table': 1}, '_label': 'User', 'movieId': None, 'year': None, 'title': None, 'genres': None, 'userId': 4}",
         "{'_src': {'offset': 3, 'table': 1}, '_dst': {'offset': 3858, 'table': 0}, '_label': 'Rating', '_id': {'offset': 2683, 'table': 2}, 'rating': 4.0, 'timestamp': 986934465, 'tag': None}",
         "{'_id': {'offset': 3858, 'table': 0}, '_label': 'Movie', 'movieId': 3897, 'year': 2000, 'title': 'Almost Famous (2000)', 'genres': 'Drama'}"
        ],
        [
         "39",
         "{'_id': {'offset': 3, 'table': 1}, '_label': 'User', 'movieId': None, 'year': None, 'title': None, 'genres': None, 'userId': 4}",
         "{'_src': {'offset': 3, 'table': 1}, '_dst': {'offset': 3867, 'table': 0}, '_label': 'Rating', '_id': {'offset': 2684, 'table': 2}, 'rating': 3.0, 'timestamp': 986849149, 'tag': None}",
         "{'_id': {'offset': 3867, 'table': 0}, '_label': 'Movie', 'movieId': 3911, 'year': 2000, 'title': 'Best in Show (2000)', 'genres': 'Comedy'}"
        ],
        [
         "40",
         "{'_id': {'offset': 3, 'table': 1}, '_label': 'User', 'movieId': None, 'year': None, 'title': None, 'genres': None, 'userId': 4}",
         "{'_src': {'offset': 3, 'table': 1}, '_dst': {'offset': 3910, 'table': 0}, '_label': 'Rating', '_id': {'offset': 2685, 'table': 2}, 'rating': 4.0, 'timestamp': 986849164, 'tag': None}",
         "{'_id': {'offset': 3910, 'table': 0}, '_label': 'Movie', 'movieId': 3967, 'year': 2000, 'title': 'Billy Elliot (2000)', 'genres': 'Drama'}"
        ],
        [
         "41",
         "{'_id': {'offset': 3, 'table': 1}, '_label': 'User', 'movieId': None, 'year': None, 'title': None, 'genres': None, 'userId': 4}",
         "{'_src': {'offset': 3, 'table': 1}, '_dst': {'offset': 3934, 'table': 0}, '_label': 'Rating', '_id': {'offset': 2686, 'table': 2}, 'rating': 4.0, 'timestamp': 986849130, 'tag': None}",
         "{'_id': {'offset': 3934, 'table': 0}, '_label': 'Movie', 'movieId': 3996, 'year': 2000, 'title': 'Crouching Tiger, Hidden Dragon (Wo hu cang long) (2000)', 'genres': 'Action|Drama|Romance'}"
        ],
        [
         "42",
         "{'_id': {'offset': 3, 'table': 1}, '_label': 'User', 'movieId': None, 'year': None, 'title': None, 'genres': None, 'userId': 4}",
         "{'_src': {'offset': 3, 'table': 1}, '_dst': {'offset': 6045, 'table': 0}, '_label': 'Rating', '_id': {'offset': 2688, 'table': 2}, 'rating': 1.0, 'timestamp': 986849254, 'tag': None}",
         "{'_id': {'offset': 6045, 'table': 0}, '_label': 'Movie', 'movieId': 4014, 'year': 2000, 'title': 'Chocolat (2000)', 'genres': 'Drama|Romance'}"
        ],
        [
         "43",
         "{'_id': {'offset': 3, 'table': 1}, '_label': 'User', 'movieId': None, 'year': None, 'title': None, 'genres': None, 'userId': 4}",
         "{'_src': {'offset': 3, 'table': 1}, '_dst': {'offset': 6051, 'table': 0}, '_label': 'Rating', '_id': {'offset': 2689, 'table': 2}, 'rating': 3.0, 'timestamp': 986848856, 'tag': None}",
         "{'_id': {'offset': 6051, 'table': 0}, '_label': 'Movie', 'movieId': 4020, 'year': 2000, 'title': 'Gift, The (2000)', 'genres': 'Thriller'}"
        ],
        [
         "44",
         "{'_id': {'offset': 3, 'table': 1}, '_label': 'User', 'movieId': None, 'year': None, 'title': None, 'genres': None, 'userId': 4}",
         "{'_src': {'offset': 3, 'table': 1}, '_dst': {'offset': 6052, 'table': 0}, '_label': 'Rating', '_id': {'offset': 2690, 'table': 2}, 'rating': 4.0, 'timestamp': 986849180, 'tag': None}",
         "{'_id': {'offset': 6052, 'table': 0}, '_label': 'Movie', 'movieId': 4021, 'year': 2000, 'title': 'Before Night Falls (2000)', 'genres': 'Drama'}"
        ],
        [
         "45",
         "{'_id': {'offset': 3, 'table': 1}, '_label': 'User', 'movieId': None, 'year': None, 'title': None, 'genres': None, 'userId': 4}",
         "{'_src': {'offset': 3, 'table': 1}, '_dst': {'offset': 6057, 'table': 0}, '_label': 'Rating', '_id': {'offset': 2691, 'table': 2}, 'rating': 3.0, 'timestamp': 986849201, 'tag': None}",
         "{'_id': {'offset': 6057, 'table': 0}, '_label': 'Movie', 'movieId': 4027, 'year': 2000, 'title': 'O Brother, Where Art Thou? (2000)', 'genres': 'Adventure|Comedy|Crime'}"
        ],
        [
         "46",
         "{'_id': {'offset': 3, 'table': 1}, '_label': 'User', 'movieId': None, 'year': None, 'title': None, 'genres': None, 'userId': 4}",
         "{'_src': {'offset': 3, 'table': 1}, '_dst': {'offset': 6058, 'table': 0}, '_label': 'Rating', '_id': {'offset': 2692, 'table': 2}, 'rating': 3.0, 'timestamp': 986849226, 'tag': None}",
         "{'_id': {'offset': 6058, 'table': 0}, '_label': 'Movie', 'movieId': 4029, 'year': 2000, 'title': 'State and Main (2000)', 'genres': 'Comedy|Drama'}"
        ],
        [
         "47",
         "{'_id': {'offset': 3, 'table': 1}, '_label': 'User', 'movieId': None, 'year': None, 'title': None, 'genres': None, 'userId': 4}",
         "{'_src': {'offset': 3, 'table': 1}, '_dst': {'offset': 6062, 'table': 0}, '_label': 'Rating', '_id': {'offset': 2693, 'table': 2}, 'rating': 4.0, 'timestamp': 986849149, 'tag': None}",
         "{'_id': {'offset': 6062, 'table': 0}, '_label': 'Movie', 'movieId': 4033, 'year': 2000, 'title': 'Thirteen Days (2000)', 'genres': 'Drama|Thriller|War'}"
        ],
        [
         "48",
         "{'_id': {'offset': 3, 'table': 1}, '_label': 'User', 'movieId': None, 'year': None, 'title': None, 'genres': None, 'userId': 4}",
         "{'_src': {'offset': 3, 'table': 1}, '_dst': {'offset': 6063, 'table': 0}, '_label': 'Rating', '_id': {'offset': 2694, 'table': 2}, 'rating': 5.0, 'timestamp': 986848753, 'tag': None}",
         "{'_id': {'offset': 6063, 'table': 0}, '_label': 'Movie', 'movieId': 4034, 'year': 2000, 'title': 'Traffic (2000)', 'genres': 'Crime|Drama|Thriller'}"
        ],
        [
         "49",
         "{'_id': {'offset': 3, 'table': 1}, '_label': 'User', 'movieId': None, 'year': None, 'title': None, 'genres': None, 'userId': 4}",
         "{'_src': {'offset': 3, 'table': 1}, '_dst': {'offset': 6134, 'table': 0}, '_label': 'Rating', '_id': {'offset': 2697, 'table': 2}, 'rating': 3.0, 'timestamp': 986848685, 'tag': None}",
         "{'_id': {'offset': 6134, 'table': 0}, '_label': 'Movie', 'movieId': 4144, 'year': 2000, 'title': 'In the Mood For Love (Fa yeung nin wa) (2000)', 'genres': 'Drama|Romance'}"
        ]
       ],
       "shape": {
        "columns": 3,
        "rows": 50
       }
      },
      "text/html": [
       "<div>\n",
       "<style scoped>\n",
       "    .dataframe tbody tr th:only-of-type {\n",
       "        vertical-align: middle;\n",
       "    }\n",
       "\n",
       "    .dataframe tbody tr th {\n",
       "        vertical-align: top;\n",
       "    }\n",
       "\n",
       "    .dataframe thead th {\n",
       "        text-align: right;\n",
       "    }\n",
       "</style>\n",
       "<table border=\"1\" class=\"dataframe\">\n",
       "  <thead>\n",
       "    <tr style=\"text-align: right;\">\n",
       "      <th></th>\n",
       "      <th>e</th>\n",
       "      <th>r</th>\n",
       "      <th>m</th>\n",
       "    </tr>\n",
       "  </thead>\n",
       "  <tbody>\n",
       "    <tr>\n",
       "      <th>0</th>\n",
       "      <td>{'_id': {'offset': 0, 'table': 1}, '_label': 'User', 'movieId': None, 'year': None, 'title': None, 'genres': None, 'userId': 1}</td>\n",
       "      <td>{'_src': {'offset': 0, 'table': 1}, '_dst': {'offset': 5105, 'table': 0}, '_label': 'Rating', '_id': {'offset': 571, 'table': 2}, 'rating': 5.0, 'timestamp': 964983536, 'tag': None}</td>\n",
       "      <td>{'_id': {'offset': 5105, 'table': 0}, '_label': 'Movie', 'movieId': 3273, 'year': 2000, 'title': 'Scream 3 (2000)', 'genres': 'Comedy|Horror|Mystery|Thriller'}</td>\n",
       "    </tr>\n",
       "    <tr>\n",
       "      <th>1</th>\n",
       "      <td>{'_id': {'offset': 0, 'table': 1}, '_label': 'User', 'movieId': None, 'year': None, 'title': None, 'genres': None, 'userId': 1}</td>\n",
       "      <td>{'_src': {'offset': 0, 'table': 1}, '_dst': {'offset': 1815, 'table': 0}, '_label': 'Rating', '_id': {'offset': 581, 'table': 2}, 'rating': 5.0, 'timestamp': 964980668, 'tag': None}</td>\n",
       "      <td>{'_id': {'offset': 1815, 'table': 0}, '_label': 'Movie', 'movieId': 3578, 'year': 2000, 'title': 'Gladiator (2000)', 'genres': 'Action|Adventure|Drama'}</td>\n",
       "    </tr>\n",
       "    <tr>\n",
       "      <th>2</th>\n",
       "      <td>{'_id': {'offset': 0, 'table': 1}, '_label': 'User', 'movieId': None, 'year': None, 'title': None, 'genres': None, 'userId': 1}</td>\n",
       "      <td>{'_src': {'offset': 0, 'table': 1}, '_dst': {'offset': 8884, 'table': 0}, '_label': 'Rating', '_id': {'offset': 582, 'table': 2}, 'rating': 4.0, 'timestamp': 964980683, 'tag': None}</td>\n",
       "      <td>{'_id': {'offset': 8884, 'table': 0}, '_label': 'Movie', 'movieId': 3617, 'year': 2000, 'title': 'Road Trip (2000)', 'genres': 'Comedy'}</td>\n",
       "    </tr>\n",
       "    <tr>\n",
       "      <th>3</th>\n",
       "      <td>{'_id': {'offset': 0, 'table': 1}, '_label': 'User', 'movieId': None, 'year': None, 'title': None, 'genres': None, 'userId': 1}</td>\n",
       "      <td>{'_src': {'offset': 0, 'table': 1}, '_dst': {'offset': 8990, 'table': 0}, '_label': 'Rating', '_id': {'offset': 589, 'table': 2}, 'rating': 4.0, 'timestamp': 964980694, 'tag': None}</td>\n",
       "      <td>{'_id': {'offset': 8990, 'table': 0}, '_label': 'Movie', 'movieId': 3744, 'year': 2000, 'title': 'Shaft (2000)', 'genres': 'Action|Crime|Thriller'}</td>\n",
       "    </tr>\n",
       "    <tr>\n",
       "      <th>4</th>\n",
       "      <td>{'_id': {'offset': 0, 'table': 1}, '_label': 'User', 'movieId': None, 'year': None, 'title': None, 'genres': None, 'userId': 1}</td>\n",
       "      <td>{'_src': {'offset': 0, 'table': 1}, '_dst': {'offset': 3787, 'table': 0}, '_label': 'Rating', '_id': {'offset': 590, 'table': 2}, 'rating': 5.0, 'timestamp': 964981855, 'tag': None}</td>\n",
       "      <td>{'_id': {'offset': 3787, 'table': 0}, '_label': 'Movie', 'movieId': 3793, 'year': 2000, 'title': 'X-Men (2000)', 'genres': 'Action|Adventure|Sci-Fi'}</td>\n",
       "    </tr>\n",
       "    <tr>\n",
       "      <th>5</th>\n",
       "      <td>{'_id': {'offset': 1, 'table': 1}, '_label': 'User', 'movieId': None, 'year': None, 'title': None, 'genres': None, 'userId': 2}</td>\n",
       "      <td>{'_src': {'offset': 1, 'table': 1}, '_dst': {'offset': 1815, 'table': 0}, '_label': 'Rating', '_id': {'offset': 597, 'table': 2}, 'rating': 4.0, 'timestamp': 1445714885, 'tag': None}</td>\n",
       "      <td>{'_id': {'offset': 1815, 'table': 0}, '_label': 'Movie', 'movieId': 3578, 'year': 2000, 'title': 'Gladiator (2000)', 'genres': 'Action|Adventure|Drama'}</td>\n",
       "    </tr>\n",
       "    <tr>\n",
       "      <th>6</th>\n",
       "      <td>{'_id': {'offset': 1, 'table': 1}, '_label': 'User', 'movieId': None, 'year': None, 'title': None, 'genres': None, 'userId': 2}</td>\n",
       "      <td>{'_src': {'offset': 1, 'table': 1}, '_dst': {'offset': 4015, 'table': 0}, '_label': 'Rating', '_id': {'offset': 598, 'table': 2}, 'rating': 4.0, 'timestamp': 1445714952, 'tag': None}</td>\n",
       "      <td>{'_id': {'offset': 4015, 'table': 0}, '_label': 'Movie', 'movieId': 6874, 'year': 2003, 'title': 'Kill Bill: Vol. 1 (2003)', 'genres': 'Action|Crime|Thriller'}</td>\n",
       "    </tr>\n",
       "    <tr>\n",
       "      <th>7</th>\n",
       "      <td>{'_id': {'offset': 1, 'table': 1}, '_label': 'User', 'movieId': None, 'year': None, 'title': None, 'genres': None, 'userId': 2}</td>\n",
       "      <td>{'_src': {'offset': 1, 'table': 1}, '_dst': {'offset': 5327, 'table': 0}, '_label': 'Rating', '_id': {'offset': 599, 'table': 2}, 'rating': 3.5, 'timestamp': 1445714960, 'tag': None}</td>\n",
       "      <td>{'_id': {'offset': 5327, 'table': 0}, '_label': 'Movie', 'movieId': 8798, 'year': 2004, 'title': 'Collateral (2004)', 'genres': 'Action|Crime|Drama|Thriller'}</td>\n",
       "    </tr>\n",
       "    <tr>\n",
       "      <th>8</th>\n",
       "      <td>{'_id': {'offset': 1, 'table': 1}, '_label': 'User', 'movieId': None, 'year': None, 'title': None, 'genres': None, 'userId': 2}</td>\n",
       "      <td>{'_src': {'offset': 1, 'table': 1}, '_dst': {'offset': 6630, 'table': 0}, '_label': 'Rating', '_id': {'offset': 600, 'table': 2}, 'rating': 4.0, 'timestamp': 1445715013, 'tag': None}</td>\n",
       "      <td>{'_id': {'offset': 6630, 'table': 0}, '_label': 'Movie', 'movieId': 46970, 'year': 2006, 'title': 'Talladega Nights: The Ballad of Ricky Bobby (2006)', 'genres': 'Action|Comedy'}</td>\n",
       "    </tr>\n",
       "    <tr>\n",
       "      <th>9</th>\n",
       "      <td>{'_id': {'offset': 1, 'table': 1}, '_label': 'User', 'movieId': None, 'year': None, 'title': None, 'genres': None, 'userId': 2}</td>\n",
       "      <td>{'_src': {'offset': 1, 'table': 1}, '_dst': {'offset': 5519, 'table': 0}, '_label': 'Rating', '_id': {'offset': 601, 'table': 2}, 'rating': 4.0, 'timestamp': 1445715064, 'tag': None}</td>\n",
       "      <td>{'_id': {'offset': 5519, 'table': 0}, '_label': 'Movie', 'movieId': 48516, 'year': 2006, 'title': 'Departed, The (2006)', 'genres': 'Crime|Drama|Thriller'}</td>\n",
       "    </tr>\n",
       "    <tr>\n",
       "      <th>10</th>\n",
       "      <td>{'_id': {'offset': 1, 'table': 1}, '_label': 'User', 'movieId': None, 'year': None, 'title': None, 'genres': None, 'userId': 2}</td>\n",
       "      <td>{'_src': {'offset': 1, 'table': 1}, '_dst': {'offset': 2152, 'table': 0}, '_label': 'Rating', '_id': {'offset': 602, 'table': 2}, 'rating': 4.5, 'timestamp': 1445715141, 'tag': None}</td>\n",
       "      <td>{'_id': {'offset': 2152, 'table': 0}, '_label': 'Movie', 'movieId': 58559, 'year': 2008, 'title': 'Dark Knight, The (2008)', 'genres': 'Action|Crime|Drama|IMAX'}</td>\n",
       "    </tr>\n",
       "    <tr>\n",
       "      <th>11</th>\n",
       "      <td>{'_id': {'offset': 1, 'table': 1}, '_label': 'User', 'movieId': None, 'year': None, 'title': None, 'genres': None, 'userId': 2}</td>\n",
       "      <td>{'_src': {'offset': 1, 'table': 1}, '_dst': {'offset': 2243, 'table': 0}, '_label': 'Rating', '_id': {'offset': 603, 'table': 2}, 'rating': 5.0, 'timestamp': 1445714980, 'tag': None}</td>\n",
       "      <td>{'_id': {'offset': 2243, 'table': 0}, '_label': 'Movie', 'movieId': 60756, 'year': 2008, 'title': 'Step Brothers (2008)', 'genres': 'Comedy'}</td>\n",
       "    </tr>\n",
       "    <tr>\n",
       "      <th>12</th>\n",
       "      <td>{'_id': {'offset': 1, 'table': 1}, '_label': 'User', 'movieId': None, 'year': None, 'title': None, 'genres': None, 'userId': 2}</td>\n",
       "      <td>{'_src': {'offset': 1, 'table': 1}, '_dst': {'offset': 6661, 'table': 0}, '_label': 'Rating', '_id': {'offset': 604, 'table': 2}, 'rating': 4.5, 'timestamp': 1445715154, 'tag': None}</td>\n",
       "      <td>{'_id': {'offset': 6661, 'table': 0}, '_label': 'Movie', 'movieId': 68157, 'year': 2009, 'title': 'Inglourious Basterds (2009)', 'genres': 'Action|Drama|War'}</td>\n",
       "    </tr>\n",
       "    <tr>\n",
       "      <th>13</th>\n",
       "      <td>{'_id': {'offset': 1, 'table': 1}, '_label': 'User', 'movieId': None, 'year': None, 'title': None, 'genres': None, 'userId': 2}</td>\n",
       "      <td>{'_src': {'offset': 1, 'table': 1}, '_dst': {'offset': 3217, 'table': 0}, '_label': 'Rating', '_id': {'offset': 605, 'table': 2}, 'rating': 3.0, 'timestamp': 1445714974, 'tag': None}</td>\n",
       "      <td>{'_id': {'offset': 3217, 'table': 0}, '_label': 'Movie', 'movieId': 71535, 'year': 2009, 'title': 'Zombieland (2009)', 'genres': 'Action|Comedy|Horror'}</td>\n",
       "    </tr>\n",
       "    <tr>\n",
       "      <th>14</th>\n",
       "      <td>{'_id': {'offset': 1, 'table': 1}, '_label': 'User', 'movieId': None, 'year': None, 'title': None, 'genres': None, 'userId': 2}</td>\n",
       "      <td>{'_src': {'offset': 1, 'table': 1}, '_dst': {'offset': 8296, 'table': 0}, '_label': 'Rating', '_id': {'offset': 606, 'table': 2}, 'rating': 4.0, 'timestamp': 1445714926, 'tag': None}</td>\n",
       "      <td>{'_id': {'offset': 8296, 'table': 0}, '_label': 'Movie', 'movieId': 74458, 'year': 2010, 'title': 'Shutter Island (2010)', 'genres': 'Drama|Mystery|Thriller'}</td>\n",
       "    </tr>\n",
       "    <tr>\n",
       "      <th>15</th>\n",
       "      <td>{'_id': {'offset': 1, 'table': 1}, '_label': 'User', 'movieId': None, 'year': None, 'title': None, 'genres': None, 'userId': 2}</td>\n",
       "      <td>{'_src': {'offset': 1, 'table': 1}, '_dst': {'offset': 8361, 'table': 0}, '_label': 'Rating', '_id': {'offset': 607, 'table': 2}, 'rating': 3.0, 'timestamp': 1445714941, 'tag': None}</td>\n",
       "      <td>{'_id': {'offset': 8361, 'table': 0}, '_label': 'Movie', 'movieId': 77455, 'year': 2010, 'title': 'Exit Through the Gift Shop (2010)', 'genres': 'Comedy|Documentary'}</td>\n",
       "    </tr>\n",
       "    <tr>\n",
       "      <th>16</th>\n",
       "      <td>{'_id': {'offset': 1, 'table': 1}, '_label': 'User', 'movieId': None, 'year': None, 'title': None, 'genres': None, 'userId': 2}</td>\n",
       "      <td>{'_src': {'offset': 1, 'table': 1}, '_dst': {'offset': 8410, 'table': 0}, '_label': 'Rating', '_id': {'offset': 608, 'table': 2}, 'rating': 4.0, 'timestamp': 1445714841, 'tag': None}</td>\n",
       "      <td>{'_id': {'offset': 8410, 'table': 0}, '_label': 'Movie', 'movieId': 79132, 'year': 2010, 'title': 'Inception (2010)', 'genres': 'Action|Crime|Drama|Mystery|Sci-Fi|Thriller|IMAX'}</td>\n",
       "    </tr>\n",
       "    <tr>\n",
       "      <th>17</th>\n",
       "      <td>{'_id': {'offset': 1, 'table': 1}, '_label': 'User', 'movieId': None, 'year': None, 'title': None, 'genres': None, 'userId': 2}</td>\n",
       "      <td>{'_src': {'offset': 1, 'table': 1}, '_dst': {'offset': 2298, 'table': 0}, '_label': 'Rating', '_id': {'offset': 609, 'table': 2}, 'rating': 4.5, 'timestamp': 1445715340, 'tag': None}</td>\n",
       "      <td>{'_id': {'offset': 2298, 'table': 0}, '_label': 'Movie', 'movieId': 80489, 'year': 2010, 'title': 'Town, The (2010)', 'genres': 'Crime|Drama|Thriller'}</td>\n",
       "    </tr>\n",
       "    <tr>\n",
       "      <th>18</th>\n",
       "      <td>{'_id': {'offset': 1, 'table': 1}, '_label': 'User', 'movieId': None, 'year': None, 'title': None, 'genres': None, 'userId': 2}</td>\n",
       "      <td>{'_src': {'offset': 1, 'table': 1}, '_dst': {'offset': 2319, 'table': 0}, '_label': 'Rating', '_id': {'offset': 610, 'table': 2}, 'rating': 5.0, 'timestamp': 1445715172, 'tag': None}</td>\n",
       "      <td>{'_id': {'offset': 2319, 'table': 0}, '_label': 'Movie', 'movieId': 80906, 'year': 2010, 'title': 'Inside Job (2010)', 'genres': 'Documentary'}</td>\n",
       "    </tr>\n",
       "    <tr>\n",
       "      <th>19</th>\n",
       "      <td>{'_id': {'offset': 1, 'table': 1}, '_label': 'User', 'movieId': None, 'year': None, 'title': None, 'genres': None, 'userId': 2}</td>\n",
       "      <td>{'_src': {'offset': 1, 'table': 1}, '_dst': {'offset': 1260, 'table': 0}, '_label': 'Rating', '_id': {'offset': 611, 'table': 2}, 'rating': 4.0, 'timestamp': 1445715166, 'tag': None}</td>\n",
       "      <td>{'_id': {'offset': 1260, 'table': 0}, '_label': 'Movie', 'movieId': 86345, 'year': 2010, 'title': 'Louis C.K.: Hilarious (2010)', 'genres': 'Comedy'}</td>\n",
       "    </tr>\n",
       "    <tr>\n",
       "      <th>20</th>\n",
       "      <td>{'_id': {'offset': 1, 'table': 1}, '_label': 'User', 'movieId': None, 'year': None, 'title': None, 'genres': None, 'userId': 2}</td>\n",
       "      <td>{'_src': {'offset': 1, 'table': 1}, '_dst': {'offset': 6784, 'table': 0}, '_label': 'Rating', '_id': {'offset': 612, 'table': 2}, 'rating': 5.0, 'timestamp': 1445715189, 'tag': None}</td>\n",
       "      <td>{'_id': {'offset': 6784, 'table': 0}, '_label': 'Movie', 'movieId': 89774, 'year': 2011, 'title': 'Warrior (2011)', 'genres': 'Drama'}</td>\n",
       "    </tr>\n",
       "    <tr>\n",
       "      <th>21</th>\n",
       "      <td>{'_id': {'offset': 1, 'table': 1}, '_label': 'User', 'movieId': None, 'year': None, 'title': None, 'genres': None, 'userId': 2}</td>\n",
       "      <td>{'_src': {'offset': 1, 'table': 1}, '_dst': {'offset': 6855, 'table': 0}, '_label': 'Rating', '_id': {'offset': 613, 'table': 2}, 'rating': 3.5, 'timestamp': 1445714891, 'tag': None}</td>\n",
       "      <td>{'_id': {'offset': 6855, 'table': 0}, '_label': 'Movie', 'movieId': 91529, 'year': 2012, 'title': 'Dark Knight Rises, The (2012)', 'genres': 'Action|Adventure|Crime|IMAX'}</td>\n",
       "    </tr>\n",
       "    <tr>\n",
       "      <th>22</th>\n",
       "      <td>{'_id': {'offset': 1, 'table': 1}, '_label': 'User', 'movieId': None, 'year': None, 'title': None, 'genres': None, 'userId': 2}</td>\n",
       "      <td>{'_src': {'offset': 1, 'table': 1}, '_dst': {'offset': 6863, 'table': 0}, '_label': 'Rating', '_id': {'offset': 614, 'table': 2}, 'rating': 2.5, 'timestamp': 1445714938, 'tag': None}</td>\n",
       "      <td>{'_id': {'offset': 6863, 'table': 0}, '_label': 'Movie', 'movieId': 91658, 'year': 2011, 'title': 'Girl with the Dragon Tattoo, The (2011)', 'genres': 'Drama|Thriller'}</td>\n",
       "    </tr>\n",
       "    <tr>\n",
       "      <th>23</th>\n",
       "      <td>{'_id': {'offset': 1, 'table': 1}, '_label': 'User', 'movieId': None, 'year': None, 'title': None, 'genres': None, 'userId': 2}</td>\n",
       "      <td>{'_src': {'offset': 1, 'table': 1}, '_dst': {'offset': 9556, 'table': 0}, '_label': 'Rating', '_id': {'offset': 615, 'table': 2}, 'rating': 3.5, 'timestamp': 1445714874, 'tag': None}</td>\n",
       "      <td>{'_id': {'offset': 9556, 'table': 0}, '_label': 'Movie', 'movieId': 99114, 'year': 2012, 'title': 'Django Unchained (2012)', 'genres': 'Action|Drama|Western'}</td>\n",
       "    </tr>\n",
       "    <tr>\n",
       "      <th>24</th>\n",
       "      <td>{'_id': {'offset': 1, 'table': 1}, '_label': 'User', 'movieId': None, 'year': None, 'title': None, 'genres': None, 'userId': 2}</td>\n",
       "      <td>{'_src': {'offset': 1, 'table': 1}, '_dst': {'offset': 8500, 'table': 0}, '_label': 'Rating', '_id': {'offset': 616, 'table': 2}, 'rating': 5.0, 'timestamp': 1445714966, 'tag': None}</td>\n",
       "      <td>{'_id': {'offset': 8500, 'table': 0}, '_label': 'Movie', 'movieId': 106782, 'year': 2013, 'title': 'Wolf of Wall Street, The (2013)', 'genres': 'Comedy|Crime|Drama'}</td>\n",
       "    </tr>\n",
       "    <tr>\n",
       "      <th>25</th>\n",
       "      <td>{'_id': {'offset': 1, 'table': 1}, '_label': 'User', 'movieId': None, 'year': None, 'title': None, 'genres': None, 'userId': 2}</td>\n",
       "      <td>{'_src': {'offset': 1, 'table': 1}, '_dst': {'offset': 3315, 'table': 0}, '_label': 'Rating', '_id': {'offset': 617, 'table': 2}, 'rating': 3.0, 'timestamp': 1445715145, 'tag': None}</td>\n",
       "      <td>{'_id': {'offset': 3315, 'table': 0}, '_label': 'Movie', 'movieId': 109487, 'year': 2014, 'title': 'Interstellar (2014)', 'genres': 'Sci-Fi|IMAX'}</td>\n",
       "    </tr>\n",
       "    <tr>\n",
       "      <th>26</th>\n",
       "      <td>{'_id': {'offset': 1, 'table': 1}, '_label': 'User', 'movieId': None, 'year': None, 'title': None, 'genres': None, 'userId': 2}</td>\n",
       "      <td>{'_src': {'offset': 1, 'table': 1}, '_dst': {'offset': 3405, 'table': 0}, '_label': 'Rating', '_id': {'offset': 618, 'table': 2}, 'rating': 4.0, 'timestamp': 1445714882, 'tag': None}</td>\n",
       "      <td>{'_id': {'offset': 3405, 'table': 0}, '_label': 'Movie', 'movieId': 112552, 'year': 2014, 'title': 'Whiplash (2014)', 'genres': 'Drama'}</td>\n",
       "    </tr>\n",
       "    <tr>\n",
       "      <th>27</th>\n",
       "      <td>{'_id': {'offset': 1, 'table': 1}, '_label': 'User', 'movieId': None, 'year': None, 'title': None, 'genres': None, 'userId': 2}</td>\n",
       "      <td>{'_src': {'offset': 1, 'table': 1}, '_dst': {'offset': 3448, 'table': 0}, '_label': 'Rating', '_id': {'offset': 619, 'table': 2}, 'rating': 2.0, 'timestamp': 1445715276, 'tag': None}</td>\n",
       "      <td>{'_id': {'offset': 3448, 'table': 0}, '_label': 'Movie', 'movieId': 114060, 'year': 2014, 'title': 'The Drop (2014)', 'genres': 'Crime|Drama|Thriller'}</td>\n",
       "    </tr>\n",
       "    <tr>\n",
       "      <th>28</th>\n",
       "      <td>{'_id': {'offset': 1, 'table': 1}, '_label': 'User', 'movieId': None, 'year': None, 'title': None, 'genres': None, 'userId': 2}</td>\n",
       "      <td>{'_src': {'offset': 1, 'table': 1}, '_dst': {'offset': 6941, 'table': 0}, '_label': 'Rating', '_id': {'offset': 620, 'table': 2}, 'rating': 3.5, 'timestamp': 1445714854, 'tag': None}</td>\n",
       "      <td>{'_id': {'offset': 6941, 'table': 0}, '_label': 'Movie', 'movieId': 115713, 'year': 2015, 'title': 'Ex Machina (2015)', 'genres': 'Drama|Sci-Fi|Thriller'}</td>\n",
       "    </tr>\n",
       "    <tr>\n",
       "      <th>29</th>\n",
       "      <td>{'_id': {'offset': 1, 'table': 1}, '_label': 'User', 'movieId': None, 'year': None, 'title': None, 'genres': None, 'userId': 2}</td>\n",
       "      <td>{'_src': {'offset': 1, 'table': 1}, '_dst': {'offset': 2429, 'table': 0}, '_label': 'Rating', '_id': {'offset': 621, 'table': 2}, 'rating': 5.0, 'timestamp': 1445715272, 'tag': None}</td>\n",
       "      <td>{'_id': {'offset': 2429, 'table': 0}, '_label': 'Movie', 'movieId': 122882, 'year': 2015, 'title': 'Mad Max: Fury Road (2015)', 'genres': 'Action|Adventure|Sci-Fi|Thriller'}</td>\n",
       "    </tr>\n",
       "    <tr>\n",
       "      <th>30</th>\n",
       "      <td>{'_id': {'offset': 1, 'table': 1}, '_label': 'User', 'movieId': None, 'year': None, 'title': None, 'genres': None, 'userId': 2}</td>\n",
       "      <td>{'_src': {'offset': 1, 'table': 1}, '_dst': {'offset': 1364, 'table': 0}, '_label': 'Rating', '_id': {'offset': 622, 'table': 2}, 'rating': 5.0, 'timestamp': 1445714851, 'tag': None}</td>\n",
       "      <td>{'_id': {'offset': 1364, 'table': 0}, '_label': 'Movie', 'movieId': 131724, 'year': 2015, 'title': 'The Jinx: The Life and Deaths of Robert Durst (2015)', 'genres': 'Documentary'}</td>\n",
       "    </tr>\n",
       "    <tr>\n",
       "      <th>31</th>\n",
       "      <td>{'_id': {'offset': 2, 'table': 1}, '_label': 'User', 'movieId': None, 'year': None, 'title': None, 'genres': None, 'userId': 3}</td>\n",
       "      <td>{'_src': {'offset': 2, 'table': 1}, '_dst': {'offset': 3896, 'table': 0}, '_label': 'Rating', '_id': {'offset': 648, 'table': 2}, 'rating': 0.5, 'timestamp': 1306464245, 'tag': None}</td>\n",
       "      <td>{'_id': {'offset': 3896, 'table': 0}, '_label': 'Movie', 'movieId': 3949, 'year': 2000, 'title': 'Requiem for a Dream (2000)', 'genres': 'Drama'}</td>\n",
       "    </tr>\n",
       "    <tr>\n",
       "      <th>32</th>\n",
       "      <td>{'_id': {'offset': 2, 'table': 1}, '_label': 'User', 'movieId': None, 'year': None, 'title': None, 'genres': None, 'userId': 3}</td>\n",
       "      <td>{'_src': {'offset': 2, 'table': 1}, '_dst': {'offset': 1860, 'table': 0}, '_label': 'Rating', '_id': {'offset': 650, 'table': 2}, 'rating': 0.5, 'timestamp': 1306464284, 'tag': None}</td>\n",
       "      <td>{'_id': {'offset': 1860, 'table': 0}, '_label': 'Movie', 'movieId': 5048, 'year': 2002, 'title': 'Snow Dogs (2002)', 'genres': 'Adventure|Children|Comedy'}</td>\n",
       "    </tr>\n",
       "    <tr>\n",
       "      <th>33</th>\n",
       "      <td>{'_id': {'offset': 2, 'table': 1}, '_label': 'User', 'movieId': None, 'year': None, 'title': None, 'genres': None, 'userId': 3}</td>\n",
       "      <td>{'_src': {'offset': 2, 'table': 1}, '_dst': {'offset': 3248, 'table': 0}, '_label': 'Rating', '_id': {'offset': 661, 'table': 2}, 'rating': 0.5, 'timestamp': 1306464164, 'tag': None}</td>\n",
       "      <td>{'_id': {'offset': 3248, 'table': 0}, '_label': 'Movie', 'movieId': 72378, 'year': 2009, 'title': '2012 (2009)', 'genres': 'Action|Drama|Sci-Fi|Thriller'}</td>\n",
       "    </tr>\n",
       "    <tr>\n",
       "      <th>34</th>\n",
       "      <td>{'_id': {'offset': 3, 'table': 1}, '_label': 'User', 'movieId': None, 'year': None, 'title': None, 'genres': None, 'userId': 4}</td>\n",
       "      <td>{'_src': {'offset': 3, 'table': 1}, '_dst': {'offset': 5133, 'table': 0}, '_label': 'Rating', '_id': {'offset': 2670, 'table': 2}, 'rating': 4.0, 'timestamp': 986934498, 'tag': None}</td>\n",
       "      <td>{'_id': {'offset': 5133, 'table': 0}, '_label': 'Movie', 'movieId': 3317, 'year': 2000, 'title': 'Wonder Boys (2000)', 'genres': 'Comedy|Drama'}</td>\n",
       "    </tr>\n",
       "    <tr>\n",
       "      <th>35</th>\n",
       "      <td>{'_id': {'offset': 3, 'table': 1}, '_label': 'User', 'movieId': None, 'year': None, 'title': None, 'genres': None, 'userId': 4}</td>\n",
       "      <td>{'_src': {'offset': 3, 'table': 1}, '_dst': {'offset': 1687, 'table': 0}, '_label': 'Rating', '_id': {'offset': 2674, 'table': 2}, 'rating': 4.0, 'timestamp': 986849238, 'tag': None}</td>\n",
       "      <td>{'_id': {'offset': 1687, 'table': 0}, '_label': 'Movie', 'movieId': 3408, 'year': 2000, 'title': 'Erin Brockovich (2000)', 'genres': 'Drama'}</td>\n",
       "    </tr>\n",
       "    <tr>\n",
       "      <th>36</th>\n",
       "      <td>{'_id': {'offset': 3, 'table': 1}, '_label': 'User', 'movieId': None, 'year': None, 'title': None, 'genres': None, 'userId': 4}</td>\n",
       "      <td>{'_src': {'offset': 3, 'table': 1}, '_dst': {'offset': 1746, 'table': 0}, '_label': 'Rating', '_id': {'offset': 2675, 'table': 2}, 'rating': 2.0, 'timestamp': 964538243, 'tag': None}</td>\n",
       "      <td>{'_id': {'offset': 1746, 'table': 0}, '_label': 'Movie', 'movieId': 3481, 'year': 2000, 'title': 'High Fidelity (2000)', 'genres': 'Comedy|Drama|Romance'}</td>\n",
       "    </tr>\n",
       "    <tr>\n",
       "      <th>37</th>\n",
       "      <td>{'_id': {'offset': 3, 'table': 1}, '_label': 'User', 'movieId': None, 'year': None, 'title': None, 'genres': None, 'userId': 4}</td>\n",
       "      <td>{'_src': {'offset': 3, 'table': 1}, '_dst': {'offset': 3831, 'table': 0}, '_label': 'Rating', '_id': {'offset': 2682, 'table': 2}, 'rating': 5.0, 'timestamp': 986849180, 'tag': None}</td>\n",
       "      <td>{'_id': {'offset': 3831, 'table': 0}, '_label': 'Movie', 'movieId': 3851, 'year': 2000, 'title': 'I'm the One That I Want (2000)', 'genres': 'Comedy'}</td>\n",
       "    </tr>\n",
       "    <tr>\n",
       "      <th>38</th>\n",
       "      <td>{'_id': {'offset': 3, 'table': 1}, '_label': 'User', 'movieId': None, 'year': None, 'title': None, 'genres': None, 'userId': 4}</td>\n",
       "      <td>{'_src': {'offset': 3, 'table': 1}, '_dst': {'offset': 3858, 'table': 0}, '_label': 'Rating', '_id': {'offset': 2683, 'table': 2}, 'rating': 4.0, 'timestamp': 986934465, 'tag': None}</td>\n",
       "      <td>{'_id': {'offset': 3858, 'table': 0}, '_label': 'Movie', 'movieId': 3897, 'year': 2000, 'title': 'Almost Famous (2000)', 'genres': 'Drama'}</td>\n",
       "    </tr>\n",
       "    <tr>\n",
       "      <th>39</th>\n",
       "      <td>{'_id': {'offset': 3, 'table': 1}, '_label': 'User', 'movieId': None, 'year': None, 'title': None, 'genres': None, 'userId': 4}</td>\n",
       "      <td>{'_src': {'offset': 3, 'table': 1}, '_dst': {'offset': 3867, 'table': 0}, '_label': 'Rating', '_id': {'offset': 2684, 'table': 2}, 'rating': 3.0, 'timestamp': 986849149, 'tag': None}</td>\n",
       "      <td>{'_id': {'offset': 3867, 'table': 0}, '_label': 'Movie', 'movieId': 3911, 'year': 2000, 'title': 'Best in Show (2000)', 'genres': 'Comedy'}</td>\n",
       "    </tr>\n",
       "    <tr>\n",
       "      <th>40</th>\n",
       "      <td>{'_id': {'offset': 3, 'table': 1}, '_label': 'User', 'movieId': None, 'year': None, 'title': None, 'genres': None, 'userId': 4}</td>\n",
       "      <td>{'_src': {'offset': 3, 'table': 1}, '_dst': {'offset': 3910, 'table': 0}, '_label': 'Rating', '_id': {'offset': 2685, 'table': 2}, 'rating': 4.0, 'timestamp': 986849164, 'tag': None}</td>\n",
       "      <td>{'_id': {'offset': 3910, 'table': 0}, '_label': 'Movie', 'movieId': 3967, 'year': 2000, 'title': 'Billy Elliot (2000)', 'genres': 'Drama'}</td>\n",
       "    </tr>\n",
       "    <tr>\n",
       "      <th>41</th>\n",
       "      <td>{'_id': {'offset': 3, 'table': 1}, '_label': 'User', 'movieId': None, 'year': None, 'title': None, 'genres': None, 'userId': 4}</td>\n",
       "      <td>{'_src': {'offset': 3, 'table': 1}, '_dst': {'offset': 3934, 'table': 0}, '_label': 'Rating', '_id': {'offset': 2686, 'table': 2}, 'rating': 4.0, 'timestamp': 986849130, 'tag': None}</td>\n",
       "      <td>{'_id': {'offset': 3934, 'table': 0}, '_label': 'Movie', 'movieId': 3996, 'year': 2000, 'title': 'Crouching Tiger, Hidden Dragon (Wo hu cang long) (2000)', 'genres': 'Action|Drama|Romance'}</td>\n",
       "    </tr>\n",
       "    <tr>\n",
       "      <th>42</th>\n",
       "      <td>{'_id': {'offset': 3, 'table': 1}, '_label': 'User', 'movieId': None, 'year': None, 'title': None, 'genres': None, 'userId': 4}</td>\n",
       "      <td>{'_src': {'offset': 3, 'table': 1}, '_dst': {'offset': 6045, 'table': 0}, '_label': 'Rating', '_id': {'offset': 2688, 'table': 2}, 'rating': 1.0, 'timestamp': 986849254, 'tag': None}</td>\n",
       "      <td>{'_id': {'offset': 6045, 'table': 0}, '_label': 'Movie', 'movieId': 4014, 'year': 2000, 'title': 'Chocolat (2000)', 'genres': 'Drama|Romance'}</td>\n",
       "    </tr>\n",
       "    <tr>\n",
       "      <th>43</th>\n",
       "      <td>{'_id': {'offset': 3, 'table': 1}, '_label': 'User', 'movieId': None, 'year': None, 'title': None, 'genres': None, 'userId': 4}</td>\n",
       "      <td>{'_src': {'offset': 3, 'table': 1}, '_dst': {'offset': 6051, 'table': 0}, '_label': 'Rating', '_id': {'offset': 2689, 'table': 2}, 'rating': 3.0, 'timestamp': 986848856, 'tag': None}</td>\n",
       "      <td>{'_id': {'offset': 6051, 'table': 0}, '_label': 'Movie', 'movieId': 4020, 'year': 2000, 'title': 'Gift, The (2000)', 'genres': 'Thriller'}</td>\n",
       "    </tr>\n",
       "    <tr>\n",
       "      <th>44</th>\n",
       "      <td>{'_id': {'offset': 3, 'table': 1}, '_label': 'User', 'movieId': None, 'year': None, 'title': None, 'genres': None, 'userId': 4}</td>\n",
       "      <td>{'_src': {'offset': 3, 'table': 1}, '_dst': {'offset': 6052, 'table': 0}, '_label': 'Rating', '_id': {'offset': 2690, 'table': 2}, 'rating': 4.0, 'timestamp': 986849180, 'tag': None}</td>\n",
       "      <td>{'_id': {'offset': 6052, 'table': 0}, '_label': 'Movie', 'movieId': 4021, 'year': 2000, 'title': 'Before Night Falls (2000)', 'genres': 'Drama'}</td>\n",
       "    </tr>\n",
       "    <tr>\n",
       "      <th>45</th>\n",
       "      <td>{'_id': {'offset': 3, 'table': 1}, '_label': 'User', 'movieId': None, 'year': None, 'title': None, 'genres': None, 'userId': 4}</td>\n",
       "      <td>{'_src': {'offset': 3, 'table': 1}, '_dst': {'offset': 6057, 'table': 0}, '_label': 'Rating', '_id': {'offset': 2691, 'table': 2}, 'rating': 3.0, 'timestamp': 986849201, 'tag': None}</td>\n",
       "      <td>{'_id': {'offset': 6057, 'table': 0}, '_label': 'Movie', 'movieId': 4027, 'year': 2000, 'title': 'O Brother, Where Art Thou? (2000)', 'genres': 'Adventure|Comedy|Crime'}</td>\n",
       "    </tr>\n",
       "    <tr>\n",
       "      <th>46</th>\n",
       "      <td>{'_id': {'offset': 3, 'table': 1}, '_label': 'User', 'movieId': None, 'year': None, 'title': None, 'genres': None, 'userId': 4}</td>\n",
       "      <td>{'_src': {'offset': 3, 'table': 1}, '_dst': {'offset': 6058, 'table': 0}, '_label': 'Rating', '_id': {'offset': 2692, 'table': 2}, 'rating': 3.0, 'timestamp': 986849226, 'tag': None}</td>\n",
       "      <td>{'_id': {'offset': 6058, 'table': 0}, '_label': 'Movie', 'movieId': 4029, 'year': 2000, 'title': 'State and Main (2000)', 'genres': 'Comedy|Drama'}</td>\n",
       "    </tr>\n",
       "    <tr>\n",
       "      <th>47</th>\n",
       "      <td>{'_id': {'offset': 3, 'table': 1}, '_label': 'User', 'movieId': None, 'year': None, 'title': None, 'genres': None, 'userId': 4}</td>\n",
       "      <td>{'_src': {'offset': 3, 'table': 1}, '_dst': {'offset': 6062, 'table': 0}, '_label': 'Rating', '_id': {'offset': 2693, 'table': 2}, 'rating': 4.0, 'timestamp': 986849149, 'tag': None}</td>\n",
       "      <td>{'_id': {'offset': 6062, 'table': 0}, '_label': 'Movie', 'movieId': 4033, 'year': 2000, 'title': 'Thirteen Days (2000)', 'genres': 'Drama|Thriller|War'}</td>\n",
       "    </tr>\n",
       "    <tr>\n",
       "      <th>48</th>\n",
       "      <td>{'_id': {'offset': 3, 'table': 1}, '_label': 'User', 'movieId': None, 'year': None, 'title': None, 'genres': None, 'userId': 4}</td>\n",
       "      <td>{'_src': {'offset': 3, 'table': 1}, '_dst': {'offset': 6063, 'table': 0}, '_label': 'Rating', '_id': {'offset': 2694, 'table': 2}, 'rating': 5.0, 'timestamp': 986848753, 'tag': None}</td>\n",
       "      <td>{'_id': {'offset': 6063, 'table': 0}, '_label': 'Movie', 'movieId': 4034, 'year': 2000, 'title': 'Traffic (2000)', 'genres': 'Crime|Drama|Thriller'}</td>\n",
       "    </tr>\n",
       "    <tr>\n",
       "      <th>49</th>\n",
       "      <td>{'_id': {'offset': 3, 'table': 1}, '_label': 'User', 'movieId': None, 'year': None, 'title': None, 'genres': None, 'userId': 4}</td>\n",
       "      <td>{'_src': {'offset': 3, 'table': 1}, '_dst': {'offset': 6134, 'table': 0}, '_label': 'Rating', '_id': {'offset': 2697, 'table': 2}, 'rating': 3.0, 'timestamp': 986848685, 'tag': None}</td>\n",
       "      <td>{'_id': {'offset': 6134, 'table': 0}, '_label': 'Movie', 'movieId': 4144, 'year': 2000, 'title': 'In the Mood For Love (Fa yeung nin wa) (2000)', 'genres': 'Drama|Romance'}</td>\n",
       "    </tr>\n",
       "  </tbody>\n",
       "</table>\n",
       "</div>"
      ],
      "text/plain": [
       "                                                                                                                                  e  \\\n",
       "0   {'_id': {'offset': 0, 'table': 1}, '_label': 'User', 'movieId': None, 'year': None, 'title': None, 'genres': None, 'userId': 1}   \n",
       "1   {'_id': {'offset': 0, 'table': 1}, '_label': 'User', 'movieId': None, 'year': None, 'title': None, 'genres': None, 'userId': 1}   \n",
       "2   {'_id': {'offset': 0, 'table': 1}, '_label': 'User', 'movieId': None, 'year': None, 'title': None, 'genres': None, 'userId': 1}   \n",
       "3   {'_id': {'offset': 0, 'table': 1}, '_label': 'User', 'movieId': None, 'year': None, 'title': None, 'genres': None, 'userId': 1}   \n",
       "4   {'_id': {'offset': 0, 'table': 1}, '_label': 'User', 'movieId': None, 'year': None, 'title': None, 'genres': None, 'userId': 1}   \n",
       "5   {'_id': {'offset': 1, 'table': 1}, '_label': 'User', 'movieId': None, 'year': None, 'title': None, 'genres': None, 'userId': 2}   \n",
       "6   {'_id': {'offset': 1, 'table': 1}, '_label': 'User', 'movieId': None, 'year': None, 'title': None, 'genres': None, 'userId': 2}   \n",
       "7   {'_id': {'offset': 1, 'table': 1}, '_label': 'User', 'movieId': None, 'year': None, 'title': None, 'genres': None, 'userId': 2}   \n",
       "8   {'_id': {'offset': 1, 'table': 1}, '_label': 'User', 'movieId': None, 'year': None, 'title': None, 'genres': None, 'userId': 2}   \n",
       "9   {'_id': {'offset': 1, 'table': 1}, '_label': 'User', 'movieId': None, 'year': None, 'title': None, 'genres': None, 'userId': 2}   \n",
       "10  {'_id': {'offset': 1, 'table': 1}, '_label': 'User', 'movieId': None, 'year': None, 'title': None, 'genres': None, 'userId': 2}   \n",
       "11  {'_id': {'offset': 1, 'table': 1}, '_label': 'User', 'movieId': None, 'year': None, 'title': None, 'genres': None, 'userId': 2}   \n",
       "12  {'_id': {'offset': 1, 'table': 1}, '_label': 'User', 'movieId': None, 'year': None, 'title': None, 'genres': None, 'userId': 2}   \n",
       "13  {'_id': {'offset': 1, 'table': 1}, '_label': 'User', 'movieId': None, 'year': None, 'title': None, 'genres': None, 'userId': 2}   \n",
       "14  {'_id': {'offset': 1, 'table': 1}, '_label': 'User', 'movieId': None, 'year': None, 'title': None, 'genres': None, 'userId': 2}   \n",
       "15  {'_id': {'offset': 1, 'table': 1}, '_label': 'User', 'movieId': None, 'year': None, 'title': None, 'genres': None, 'userId': 2}   \n",
       "16  {'_id': {'offset': 1, 'table': 1}, '_label': 'User', 'movieId': None, 'year': None, 'title': None, 'genres': None, 'userId': 2}   \n",
       "17  {'_id': {'offset': 1, 'table': 1}, '_label': 'User', 'movieId': None, 'year': None, 'title': None, 'genres': None, 'userId': 2}   \n",
       "18  {'_id': {'offset': 1, 'table': 1}, '_label': 'User', 'movieId': None, 'year': None, 'title': None, 'genres': None, 'userId': 2}   \n",
       "19  {'_id': {'offset': 1, 'table': 1}, '_label': 'User', 'movieId': None, 'year': None, 'title': None, 'genres': None, 'userId': 2}   \n",
       "20  {'_id': {'offset': 1, 'table': 1}, '_label': 'User', 'movieId': None, 'year': None, 'title': None, 'genres': None, 'userId': 2}   \n",
       "21  {'_id': {'offset': 1, 'table': 1}, '_label': 'User', 'movieId': None, 'year': None, 'title': None, 'genres': None, 'userId': 2}   \n",
       "22  {'_id': {'offset': 1, 'table': 1}, '_label': 'User', 'movieId': None, 'year': None, 'title': None, 'genres': None, 'userId': 2}   \n",
       "23  {'_id': {'offset': 1, 'table': 1}, '_label': 'User', 'movieId': None, 'year': None, 'title': None, 'genres': None, 'userId': 2}   \n",
       "24  {'_id': {'offset': 1, 'table': 1}, '_label': 'User', 'movieId': None, 'year': None, 'title': None, 'genres': None, 'userId': 2}   \n",
       "25  {'_id': {'offset': 1, 'table': 1}, '_label': 'User', 'movieId': None, 'year': None, 'title': None, 'genres': None, 'userId': 2}   \n",
       "26  {'_id': {'offset': 1, 'table': 1}, '_label': 'User', 'movieId': None, 'year': None, 'title': None, 'genres': None, 'userId': 2}   \n",
       "27  {'_id': {'offset': 1, 'table': 1}, '_label': 'User', 'movieId': None, 'year': None, 'title': None, 'genres': None, 'userId': 2}   \n",
       "28  {'_id': {'offset': 1, 'table': 1}, '_label': 'User', 'movieId': None, 'year': None, 'title': None, 'genres': None, 'userId': 2}   \n",
       "29  {'_id': {'offset': 1, 'table': 1}, '_label': 'User', 'movieId': None, 'year': None, 'title': None, 'genres': None, 'userId': 2}   \n",
       "30  {'_id': {'offset': 1, 'table': 1}, '_label': 'User', 'movieId': None, 'year': None, 'title': None, 'genres': None, 'userId': 2}   \n",
       "31  {'_id': {'offset': 2, 'table': 1}, '_label': 'User', 'movieId': None, 'year': None, 'title': None, 'genres': None, 'userId': 3}   \n",
       "32  {'_id': {'offset': 2, 'table': 1}, '_label': 'User', 'movieId': None, 'year': None, 'title': None, 'genres': None, 'userId': 3}   \n",
       "33  {'_id': {'offset': 2, 'table': 1}, '_label': 'User', 'movieId': None, 'year': None, 'title': None, 'genres': None, 'userId': 3}   \n",
       "34  {'_id': {'offset': 3, 'table': 1}, '_label': 'User', 'movieId': None, 'year': None, 'title': None, 'genres': None, 'userId': 4}   \n",
       "35  {'_id': {'offset': 3, 'table': 1}, '_label': 'User', 'movieId': None, 'year': None, 'title': None, 'genres': None, 'userId': 4}   \n",
       "36  {'_id': {'offset': 3, 'table': 1}, '_label': 'User', 'movieId': None, 'year': None, 'title': None, 'genres': None, 'userId': 4}   \n",
       "37  {'_id': {'offset': 3, 'table': 1}, '_label': 'User', 'movieId': None, 'year': None, 'title': None, 'genres': None, 'userId': 4}   \n",
       "38  {'_id': {'offset': 3, 'table': 1}, '_label': 'User', 'movieId': None, 'year': None, 'title': None, 'genres': None, 'userId': 4}   \n",
       "39  {'_id': {'offset': 3, 'table': 1}, '_label': 'User', 'movieId': None, 'year': None, 'title': None, 'genres': None, 'userId': 4}   \n",
       "40  {'_id': {'offset': 3, 'table': 1}, '_label': 'User', 'movieId': None, 'year': None, 'title': None, 'genres': None, 'userId': 4}   \n",
       "41  {'_id': {'offset': 3, 'table': 1}, '_label': 'User', 'movieId': None, 'year': None, 'title': None, 'genres': None, 'userId': 4}   \n",
       "42  {'_id': {'offset': 3, 'table': 1}, '_label': 'User', 'movieId': None, 'year': None, 'title': None, 'genres': None, 'userId': 4}   \n",
       "43  {'_id': {'offset': 3, 'table': 1}, '_label': 'User', 'movieId': None, 'year': None, 'title': None, 'genres': None, 'userId': 4}   \n",
       "44  {'_id': {'offset': 3, 'table': 1}, '_label': 'User', 'movieId': None, 'year': None, 'title': None, 'genres': None, 'userId': 4}   \n",
       "45  {'_id': {'offset': 3, 'table': 1}, '_label': 'User', 'movieId': None, 'year': None, 'title': None, 'genres': None, 'userId': 4}   \n",
       "46  {'_id': {'offset': 3, 'table': 1}, '_label': 'User', 'movieId': None, 'year': None, 'title': None, 'genres': None, 'userId': 4}   \n",
       "47  {'_id': {'offset': 3, 'table': 1}, '_label': 'User', 'movieId': None, 'year': None, 'title': None, 'genres': None, 'userId': 4}   \n",
       "48  {'_id': {'offset': 3, 'table': 1}, '_label': 'User', 'movieId': None, 'year': None, 'title': None, 'genres': None, 'userId': 4}   \n",
       "49  {'_id': {'offset': 3, 'table': 1}, '_label': 'User', 'movieId': None, 'year': None, 'title': None, 'genres': None, 'userId': 4}   \n",
       "\n",
       "                                                                                                                                                                                         r  \\\n",
       "0    {'_src': {'offset': 0, 'table': 1}, '_dst': {'offset': 5105, 'table': 0}, '_label': 'Rating', '_id': {'offset': 571, 'table': 2}, 'rating': 5.0, 'timestamp': 964983536, 'tag': None}   \n",
       "1    {'_src': {'offset': 0, 'table': 1}, '_dst': {'offset': 1815, 'table': 0}, '_label': 'Rating', '_id': {'offset': 581, 'table': 2}, 'rating': 5.0, 'timestamp': 964980668, 'tag': None}   \n",
       "2    {'_src': {'offset': 0, 'table': 1}, '_dst': {'offset': 8884, 'table': 0}, '_label': 'Rating', '_id': {'offset': 582, 'table': 2}, 'rating': 4.0, 'timestamp': 964980683, 'tag': None}   \n",
       "3    {'_src': {'offset': 0, 'table': 1}, '_dst': {'offset': 8990, 'table': 0}, '_label': 'Rating', '_id': {'offset': 589, 'table': 2}, 'rating': 4.0, 'timestamp': 964980694, 'tag': None}   \n",
       "4    {'_src': {'offset': 0, 'table': 1}, '_dst': {'offset': 3787, 'table': 0}, '_label': 'Rating', '_id': {'offset': 590, 'table': 2}, 'rating': 5.0, 'timestamp': 964981855, 'tag': None}   \n",
       "5   {'_src': {'offset': 1, 'table': 1}, '_dst': {'offset': 1815, 'table': 0}, '_label': 'Rating', '_id': {'offset': 597, 'table': 2}, 'rating': 4.0, 'timestamp': 1445714885, 'tag': None}   \n",
       "6   {'_src': {'offset': 1, 'table': 1}, '_dst': {'offset': 4015, 'table': 0}, '_label': 'Rating', '_id': {'offset': 598, 'table': 2}, 'rating': 4.0, 'timestamp': 1445714952, 'tag': None}   \n",
       "7   {'_src': {'offset': 1, 'table': 1}, '_dst': {'offset': 5327, 'table': 0}, '_label': 'Rating', '_id': {'offset': 599, 'table': 2}, 'rating': 3.5, 'timestamp': 1445714960, 'tag': None}   \n",
       "8   {'_src': {'offset': 1, 'table': 1}, '_dst': {'offset': 6630, 'table': 0}, '_label': 'Rating', '_id': {'offset': 600, 'table': 2}, 'rating': 4.0, 'timestamp': 1445715013, 'tag': None}   \n",
       "9   {'_src': {'offset': 1, 'table': 1}, '_dst': {'offset': 5519, 'table': 0}, '_label': 'Rating', '_id': {'offset': 601, 'table': 2}, 'rating': 4.0, 'timestamp': 1445715064, 'tag': None}   \n",
       "10  {'_src': {'offset': 1, 'table': 1}, '_dst': {'offset': 2152, 'table': 0}, '_label': 'Rating', '_id': {'offset': 602, 'table': 2}, 'rating': 4.5, 'timestamp': 1445715141, 'tag': None}   \n",
       "11  {'_src': {'offset': 1, 'table': 1}, '_dst': {'offset': 2243, 'table': 0}, '_label': 'Rating', '_id': {'offset': 603, 'table': 2}, 'rating': 5.0, 'timestamp': 1445714980, 'tag': None}   \n",
       "12  {'_src': {'offset': 1, 'table': 1}, '_dst': {'offset': 6661, 'table': 0}, '_label': 'Rating', '_id': {'offset': 604, 'table': 2}, 'rating': 4.5, 'timestamp': 1445715154, 'tag': None}   \n",
       "13  {'_src': {'offset': 1, 'table': 1}, '_dst': {'offset': 3217, 'table': 0}, '_label': 'Rating', '_id': {'offset': 605, 'table': 2}, 'rating': 3.0, 'timestamp': 1445714974, 'tag': None}   \n",
       "14  {'_src': {'offset': 1, 'table': 1}, '_dst': {'offset': 8296, 'table': 0}, '_label': 'Rating', '_id': {'offset': 606, 'table': 2}, 'rating': 4.0, 'timestamp': 1445714926, 'tag': None}   \n",
       "15  {'_src': {'offset': 1, 'table': 1}, '_dst': {'offset': 8361, 'table': 0}, '_label': 'Rating', '_id': {'offset': 607, 'table': 2}, 'rating': 3.0, 'timestamp': 1445714941, 'tag': None}   \n",
       "16  {'_src': {'offset': 1, 'table': 1}, '_dst': {'offset': 8410, 'table': 0}, '_label': 'Rating', '_id': {'offset': 608, 'table': 2}, 'rating': 4.0, 'timestamp': 1445714841, 'tag': None}   \n",
       "17  {'_src': {'offset': 1, 'table': 1}, '_dst': {'offset': 2298, 'table': 0}, '_label': 'Rating', '_id': {'offset': 609, 'table': 2}, 'rating': 4.5, 'timestamp': 1445715340, 'tag': None}   \n",
       "18  {'_src': {'offset': 1, 'table': 1}, '_dst': {'offset': 2319, 'table': 0}, '_label': 'Rating', '_id': {'offset': 610, 'table': 2}, 'rating': 5.0, 'timestamp': 1445715172, 'tag': None}   \n",
       "19  {'_src': {'offset': 1, 'table': 1}, '_dst': {'offset': 1260, 'table': 0}, '_label': 'Rating', '_id': {'offset': 611, 'table': 2}, 'rating': 4.0, 'timestamp': 1445715166, 'tag': None}   \n",
       "20  {'_src': {'offset': 1, 'table': 1}, '_dst': {'offset': 6784, 'table': 0}, '_label': 'Rating', '_id': {'offset': 612, 'table': 2}, 'rating': 5.0, 'timestamp': 1445715189, 'tag': None}   \n",
       "21  {'_src': {'offset': 1, 'table': 1}, '_dst': {'offset': 6855, 'table': 0}, '_label': 'Rating', '_id': {'offset': 613, 'table': 2}, 'rating': 3.5, 'timestamp': 1445714891, 'tag': None}   \n",
       "22  {'_src': {'offset': 1, 'table': 1}, '_dst': {'offset': 6863, 'table': 0}, '_label': 'Rating', '_id': {'offset': 614, 'table': 2}, 'rating': 2.5, 'timestamp': 1445714938, 'tag': None}   \n",
       "23  {'_src': {'offset': 1, 'table': 1}, '_dst': {'offset': 9556, 'table': 0}, '_label': 'Rating', '_id': {'offset': 615, 'table': 2}, 'rating': 3.5, 'timestamp': 1445714874, 'tag': None}   \n",
       "24  {'_src': {'offset': 1, 'table': 1}, '_dst': {'offset': 8500, 'table': 0}, '_label': 'Rating', '_id': {'offset': 616, 'table': 2}, 'rating': 5.0, 'timestamp': 1445714966, 'tag': None}   \n",
       "25  {'_src': {'offset': 1, 'table': 1}, '_dst': {'offset': 3315, 'table': 0}, '_label': 'Rating', '_id': {'offset': 617, 'table': 2}, 'rating': 3.0, 'timestamp': 1445715145, 'tag': None}   \n",
       "26  {'_src': {'offset': 1, 'table': 1}, '_dst': {'offset': 3405, 'table': 0}, '_label': 'Rating', '_id': {'offset': 618, 'table': 2}, 'rating': 4.0, 'timestamp': 1445714882, 'tag': None}   \n",
       "27  {'_src': {'offset': 1, 'table': 1}, '_dst': {'offset': 3448, 'table': 0}, '_label': 'Rating', '_id': {'offset': 619, 'table': 2}, 'rating': 2.0, 'timestamp': 1445715276, 'tag': None}   \n",
       "28  {'_src': {'offset': 1, 'table': 1}, '_dst': {'offset': 6941, 'table': 0}, '_label': 'Rating', '_id': {'offset': 620, 'table': 2}, 'rating': 3.5, 'timestamp': 1445714854, 'tag': None}   \n",
       "29  {'_src': {'offset': 1, 'table': 1}, '_dst': {'offset': 2429, 'table': 0}, '_label': 'Rating', '_id': {'offset': 621, 'table': 2}, 'rating': 5.0, 'timestamp': 1445715272, 'tag': None}   \n",
       "30  {'_src': {'offset': 1, 'table': 1}, '_dst': {'offset': 1364, 'table': 0}, '_label': 'Rating', '_id': {'offset': 622, 'table': 2}, 'rating': 5.0, 'timestamp': 1445714851, 'tag': None}   \n",
       "31  {'_src': {'offset': 2, 'table': 1}, '_dst': {'offset': 3896, 'table': 0}, '_label': 'Rating', '_id': {'offset': 648, 'table': 2}, 'rating': 0.5, 'timestamp': 1306464245, 'tag': None}   \n",
       "32  {'_src': {'offset': 2, 'table': 1}, '_dst': {'offset': 1860, 'table': 0}, '_label': 'Rating', '_id': {'offset': 650, 'table': 2}, 'rating': 0.5, 'timestamp': 1306464284, 'tag': None}   \n",
       "33  {'_src': {'offset': 2, 'table': 1}, '_dst': {'offset': 3248, 'table': 0}, '_label': 'Rating', '_id': {'offset': 661, 'table': 2}, 'rating': 0.5, 'timestamp': 1306464164, 'tag': None}   \n",
       "34  {'_src': {'offset': 3, 'table': 1}, '_dst': {'offset': 5133, 'table': 0}, '_label': 'Rating', '_id': {'offset': 2670, 'table': 2}, 'rating': 4.0, 'timestamp': 986934498, 'tag': None}   \n",
       "35  {'_src': {'offset': 3, 'table': 1}, '_dst': {'offset': 1687, 'table': 0}, '_label': 'Rating', '_id': {'offset': 2674, 'table': 2}, 'rating': 4.0, 'timestamp': 986849238, 'tag': None}   \n",
       "36  {'_src': {'offset': 3, 'table': 1}, '_dst': {'offset': 1746, 'table': 0}, '_label': 'Rating', '_id': {'offset': 2675, 'table': 2}, 'rating': 2.0, 'timestamp': 964538243, 'tag': None}   \n",
       "37  {'_src': {'offset': 3, 'table': 1}, '_dst': {'offset': 3831, 'table': 0}, '_label': 'Rating', '_id': {'offset': 2682, 'table': 2}, 'rating': 5.0, 'timestamp': 986849180, 'tag': None}   \n",
       "38  {'_src': {'offset': 3, 'table': 1}, '_dst': {'offset': 3858, 'table': 0}, '_label': 'Rating', '_id': {'offset': 2683, 'table': 2}, 'rating': 4.0, 'timestamp': 986934465, 'tag': None}   \n",
       "39  {'_src': {'offset': 3, 'table': 1}, '_dst': {'offset': 3867, 'table': 0}, '_label': 'Rating', '_id': {'offset': 2684, 'table': 2}, 'rating': 3.0, 'timestamp': 986849149, 'tag': None}   \n",
       "40  {'_src': {'offset': 3, 'table': 1}, '_dst': {'offset': 3910, 'table': 0}, '_label': 'Rating', '_id': {'offset': 2685, 'table': 2}, 'rating': 4.0, 'timestamp': 986849164, 'tag': None}   \n",
       "41  {'_src': {'offset': 3, 'table': 1}, '_dst': {'offset': 3934, 'table': 0}, '_label': 'Rating', '_id': {'offset': 2686, 'table': 2}, 'rating': 4.0, 'timestamp': 986849130, 'tag': None}   \n",
       "42  {'_src': {'offset': 3, 'table': 1}, '_dst': {'offset': 6045, 'table': 0}, '_label': 'Rating', '_id': {'offset': 2688, 'table': 2}, 'rating': 1.0, 'timestamp': 986849254, 'tag': None}   \n",
       "43  {'_src': {'offset': 3, 'table': 1}, '_dst': {'offset': 6051, 'table': 0}, '_label': 'Rating', '_id': {'offset': 2689, 'table': 2}, 'rating': 3.0, 'timestamp': 986848856, 'tag': None}   \n",
       "44  {'_src': {'offset': 3, 'table': 1}, '_dst': {'offset': 6052, 'table': 0}, '_label': 'Rating', '_id': {'offset': 2690, 'table': 2}, 'rating': 4.0, 'timestamp': 986849180, 'tag': None}   \n",
       "45  {'_src': {'offset': 3, 'table': 1}, '_dst': {'offset': 6057, 'table': 0}, '_label': 'Rating', '_id': {'offset': 2691, 'table': 2}, 'rating': 3.0, 'timestamp': 986849201, 'tag': None}   \n",
       "46  {'_src': {'offset': 3, 'table': 1}, '_dst': {'offset': 6058, 'table': 0}, '_label': 'Rating', '_id': {'offset': 2692, 'table': 2}, 'rating': 3.0, 'timestamp': 986849226, 'tag': None}   \n",
       "47  {'_src': {'offset': 3, 'table': 1}, '_dst': {'offset': 6062, 'table': 0}, '_label': 'Rating', '_id': {'offset': 2693, 'table': 2}, 'rating': 4.0, 'timestamp': 986849149, 'tag': None}   \n",
       "48  {'_src': {'offset': 3, 'table': 1}, '_dst': {'offset': 6063, 'table': 0}, '_label': 'Rating', '_id': {'offset': 2694, 'table': 2}, 'rating': 5.0, 'timestamp': 986848753, 'tag': None}   \n",
       "49  {'_src': {'offset': 3, 'table': 1}, '_dst': {'offset': 6134, 'table': 0}, '_label': 'Rating', '_id': {'offset': 2697, 'table': 2}, 'rating': 3.0, 'timestamp': 986848685, 'tag': None}   \n",
       "\n",
       "                                                                                                                                                                                                m  \n",
       "0                                 {'_id': {'offset': 5105, 'table': 0}, '_label': 'Movie', 'movieId': 3273, 'year': 2000, 'title': 'Scream 3 (2000)', 'genres': 'Comedy|Horror|Mystery|Thriller'}  \n",
       "1                                        {'_id': {'offset': 1815, 'table': 0}, '_label': 'Movie', 'movieId': 3578, 'year': 2000, 'title': 'Gladiator (2000)', 'genres': 'Action|Adventure|Drama'}  \n",
       "2                                                        {'_id': {'offset': 8884, 'table': 0}, '_label': 'Movie', 'movieId': 3617, 'year': 2000, 'title': 'Road Trip (2000)', 'genres': 'Comedy'}  \n",
       "3                                             {'_id': {'offset': 8990, 'table': 0}, '_label': 'Movie', 'movieId': 3744, 'year': 2000, 'title': 'Shaft (2000)', 'genres': 'Action|Crime|Thriller'}  \n",
       "4                                           {'_id': {'offset': 3787, 'table': 0}, '_label': 'Movie', 'movieId': 3793, 'year': 2000, 'title': 'X-Men (2000)', 'genres': 'Action|Adventure|Sci-Fi'}  \n",
       "5                                        {'_id': {'offset': 1815, 'table': 0}, '_label': 'Movie', 'movieId': 3578, 'year': 2000, 'title': 'Gladiator (2000)', 'genres': 'Action|Adventure|Drama'}  \n",
       "6                                 {'_id': {'offset': 4015, 'table': 0}, '_label': 'Movie', 'movieId': 6874, 'year': 2003, 'title': 'Kill Bill: Vol. 1 (2003)', 'genres': 'Action|Crime|Thriller'}  \n",
       "7                                  {'_id': {'offset': 5327, 'table': 0}, '_label': 'Movie', 'movieId': 8798, 'year': 2004, 'title': 'Collateral (2004)', 'genres': 'Action|Crime|Drama|Thriller'}  \n",
       "8              {'_id': {'offset': 6630, 'table': 0}, '_label': 'Movie', 'movieId': 46970, 'year': 2006, 'title': 'Talladega Nights: The Ballad of Ricky Bobby (2006)', 'genres': 'Action|Comedy'}  \n",
       "9                                     {'_id': {'offset': 5519, 'table': 0}, '_label': 'Movie', 'movieId': 48516, 'year': 2006, 'title': 'Departed, The (2006)', 'genres': 'Crime|Drama|Thriller'}  \n",
       "10                              {'_id': {'offset': 2152, 'table': 0}, '_label': 'Movie', 'movieId': 58559, 'year': 2008, 'title': 'Dark Knight, The (2008)', 'genres': 'Action|Crime|Drama|IMAX'}  \n",
       "11                                                  {'_id': {'offset': 2243, 'table': 0}, '_label': 'Movie', 'movieId': 60756, 'year': 2008, 'title': 'Step Brothers (2008)', 'genres': 'Comedy'}  \n",
       "12                                 {'_id': {'offset': 6661, 'table': 0}, '_label': 'Movie', 'movieId': 68157, 'year': 2009, 'title': 'Inglourious Basterds (2009)', 'genres': 'Action|Drama|War'}  \n",
       "13                                       {'_id': {'offset': 3217, 'table': 0}, '_label': 'Movie', 'movieId': 71535, 'year': 2009, 'title': 'Zombieland (2009)', 'genres': 'Action|Comedy|Horror'}  \n",
       "14                                 {'_id': {'offset': 8296, 'table': 0}, '_label': 'Movie', 'movieId': 74458, 'year': 2010, 'title': 'Shutter Island (2010)', 'genres': 'Drama|Mystery|Thriller'}  \n",
       "15                         {'_id': {'offset': 8361, 'table': 0}, '_label': 'Movie', 'movieId': 77455, 'year': 2010, 'title': 'Exit Through the Gift Shop (2010)', 'genres': 'Comedy|Documentary'}  \n",
       "16             {'_id': {'offset': 8410, 'table': 0}, '_label': 'Movie', 'movieId': 79132, 'year': 2010, 'title': 'Inception (2010)', 'genres': 'Action|Crime|Drama|Mystery|Sci-Fi|Thriller|IMAX'}  \n",
       "17                                        {'_id': {'offset': 2298, 'table': 0}, '_label': 'Movie', 'movieId': 80489, 'year': 2010, 'title': 'Town, The (2010)', 'genres': 'Crime|Drama|Thriller'}  \n",
       "18                                                {'_id': {'offset': 2319, 'table': 0}, '_label': 'Movie', 'movieId': 80906, 'year': 2010, 'title': 'Inside Job (2010)', 'genres': 'Documentary'}  \n",
       "19                                          {'_id': {'offset': 1260, 'table': 0}, '_label': 'Movie', 'movieId': 86345, 'year': 2010, 'title': 'Louis C.K.: Hilarious (2010)', 'genres': 'Comedy'}  \n",
       "20                                                         {'_id': {'offset': 6784, 'table': 0}, '_label': 'Movie', 'movieId': 89774, 'year': 2011, 'title': 'Warrior (2011)', 'genres': 'Drama'}  \n",
       "21                    {'_id': {'offset': 6855, 'table': 0}, '_label': 'Movie', 'movieId': 91529, 'year': 2012, 'title': 'Dark Knight Rises, The (2012)', 'genres': 'Action|Adventure|Crime|IMAX'}  \n",
       "22                       {'_id': {'offset': 6863, 'table': 0}, '_label': 'Movie', 'movieId': 91658, 'year': 2011, 'title': 'Girl with the Dragon Tattoo, The (2011)', 'genres': 'Drama|Thriller'}  \n",
       "23                                 {'_id': {'offset': 9556, 'table': 0}, '_label': 'Movie', 'movieId': 99114, 'year': 2012, 'title': 'Django Unchained (2012)', 'genres': 'Action|Drama|Western'}  \n",
       "24                          {'_id': {'offset': 8500, 'table': 0}, '_label': 'Movie', 'movieId': 106782, 'year': 2013, 'title': 'Wolf of Wall Street, The (2013)', 'genres': 'Comedy|Crime|Drama'}  \n",
       "25                                             {'_id': {'offset': 3315, 'table': 0}, '_label': 'Movie', 'movieId': 109487, 'year': 2014, 'title': 'Interstellar (2014)', 'genres': 'Sci-Fi|IMAX'}  \n",
       "26                                                       {'_id': {'offset': 3405, 'table': 0}, '_label': 'Movie', 'movieId': 112552, 'year': 2014, 'title': 'Whiplash (2014)', 'genres': 'Drama'}  \n",
       "27                                        {'_id': {'offset': 3448, 'table': 0}, '_label': 'Movie', 'movieId': 114060, 'year': 2014, 'title': 'The Drop (2014)', 'genres': 'Crime|Drama|Thriller'}  \n",
       "28                                     {'_id': {'offset': 6941, 'table': 0}, '_label': 'Movie', 'movieId': 115713, 'year': 2015, 'title': 'Ex Machina (2015)', 'genres': 'Drama|Sci-Fi|Thriller'}  \n",
       "29                  {'_id': {'offset': 2429, 'table': 0}, '_label': 'Movie', 'movieId': 122882, 'year': 2015, 'title': 'Mad Max: Fury Road (2015)', 'genres': 'Action|Adventure|Sci-Fi|Thriller'}  \n",
       "30            {'_id': {'offset': 1364, 'table': 0}, '_label': 'Movie', 'movieId': 131724, 'year': 2015, 'title': 'The Jinx: The Life and Deaths of Robert Durst (2015)', 'genres': 'Documentary'}  \n",
       "31                                              {'_id': {'offset': 3896, 'table': 0}, '_label': 'Movie', 'movieId': 3949, 'year': 2000, 'title': 'Requiem for a Dream (2000)', 'genres': 'Drama'}  \n",
       "32                                    {'_id': {'offset': 1860, 'table': 0}, '_label': 'Movie', 'movieId': 5048, 'year': 2002, 'title': 'Snow Dogs (2002)', 'genres': 'Adventure|Children|Comedy'}  \n",
       "33                                     {'_id': {'offset': 3248, 'table': 0}, '_label': 'Movie', 'movieId': 72378, 'year': 2009, 'title': '2012 (2009)', 'genres': 'Action|Drama|Sci-Fi|Thriller'}  \n",
       "34                                               {'_id': {'offset': 5133, 'table': 0}, '_label': 'Movie', 'movieId': 3317, 'year': 2000, 'title': 'Wonder Boys (2000)', 'genres': 'Comedy|Drama'}  \n",
       "35                                                  {'_id': {'offset': 1687, 'table': 0}, '_label': 'Movie', 'movieId': 3408, 'year': 2000, 'title': 'Erin Brockovich (2000)', 'genres': 'Drama'}  \n",
       "36                                     {'_id': {'offset': 1746, 'table': 0}, '_label': 'Movie', 'movieId': 3481, 'year': 2000, 'title': 'High Fidelity (2000)', 'genres': 'Comedy|Drama|Romance'}  \n",
       "37                                         {'_id': {'offset': 3831, 'table': 0}, '_label': 'Movie', 'movieId': 3851, 'year': 2000, 'title': 'I'm the One That I Want (2000)', 'genres': 'Comedy'}  \n",
       "38                                                    {'_id': {'offset': 3858, 'table': 0}, '_label': 'Movie', 'movieId': 3897, 'year': 2000, 'title': 'Almost Famous (2000)', 'genres': 'Drama'}  \n",
       "39                                                    {'_id': {'offset': 3867, 'table': 0}, '_label': 'Movie', 'movieId': 3911, 'year': 2000, 'title': 'Best in Show (2000)', 'genres': 'Comedy'}  \n",
       "40                                                     {'_id': {'offset': 3910, 'table': 0}, '_label': 'Movie', 'movieId': 3967, 'year': 2000, 'title': 'Billy Elliot (2000)', 'genres': 'Drama'}  \n",
       "41  {'_id': {'offset': 3934, 'table': 0}, '_label': 'Movie', 'movieId': 3996, 'year': 2000, 'title': 'Crouching Tiger, Hidden Dragon (Wo hu cang long) (2000)', 'genres': 'Action|Drama|Romance'}  \n",
       "42                                                 {'_id': {'offset': 6045, 'table': 0}, '_label': 'Movie', 'movieId': 4014, 'year': 2000, 'title': 'Chocolat (2000)', 'genres': 'Drama|Romance'}  \n",
       "43                                                     {'_id': {'offset': 6051, 'table': 0}, '_label': 'Movie', 'movieId': 4020, 'year': 2000, 'title': 'Gift, The (2000)', 'genres': 'Thriller'}  \n",
       "44                                               {'_id': {'offset': 6052, 'table': 0}, '_label': 'Movie', 'movieId': 4021, 'year': 2000, 'title': 'Before Night Falls (2000)', 'genres': 'Drama'}  \n",
       "45                      {'_id': {'offset': 6057, 'table': 0}, '_label': 'Movie', 'movieId': 4027, 'year': 2000, 'title': 'O Brother, Where Art Thou? (2000)', 'genres': 'Adventure|Comedy|Crime'}  \n",
       "46                                            {'_id': {'offset': 6058, 'table': 0}, '_label': 'Movie', 'movieId': 4029, 'year': 2000, 'title': 'State and Main (2000)', 'genres': 'Comedy|Drama'}  \n",
       "47                                       {'_id': {'offset': 6062, 'table': 0}, '_label': 'Movie', 'movieId': 4033, 'year': 2000, 'title': 'Thirteen Days (2000)', 'genres': 'Drama|Thriller|War'}  \n",
       "48                                           {'_id': {'offset': 6063, 'table': 0}, '_label': 'Movie', 'movieId': 4034, 'year': 2000, 'title': 'Traffic (2000)', 'genres': 'Crime|Drama|Thriller'}  \n",
       "49                   {'_id': {'offset': 6134, 'table': 0}, '_label': 'Movie', 'movieId': 4144, 'year': 2000, 'title': 'In the Mood For Love (Fa yeung nin wa) (2000)', 'genres': 'Drama|Romance'}  "
      ]
     },
     "execution_count": 14,
     "metadata": {},
     "output_type": "execute_result"
    }
   ],
   "source": [
    "result = connection.execute('MATCH p = (e)-[r]-(m:Movie) WHERE m.year >= 2000 RETURN e, r, m LIMIT 50')\n",
    "\n",
    "df = result.get_as_df()\n",
    "df"
   ]
  },
  {
   "cell_type": "code",
   "execution_count": null,
   "metadata": {},
   "outputs": [],
   "source": []
  }
 ],
 "metadata": {
  "kernelspec": {
   "display_name": "Visual_Analytics",
   "language": "python",
   "name": "python3"
  },
  "language_info": {
   "codemirror_mode": {
    "name": "ipython",
    "version": 3
   },
   "file_extension": ".py",
   "mimetype": "text/x-python",
   "name": "python",
   "nbconvert_exporter": "python",
   "pygments_lexer": "ipython3",
   "version": "3.13.1"
  }
 },
 "nbformat": 4,
 "nbformat_minor": 2
}
